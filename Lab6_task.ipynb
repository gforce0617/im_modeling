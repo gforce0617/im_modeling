{
  "cells": [
    {
      "cell_type": "markdown",
      "metadata": {
        "id": "9iADmcJeUYcu"
      },
      "source": [
        "# Лабораторная работа № 6. Ансамблевые модели для прогнозирования температуры блока усиления мощности."
      ]
    },
    {
      "cell_type": "markdown",
      "metadata": {
        "id": "MlfxeSTbUYcz"
      },
      "source": [
        "В работе проводится обзор основных ансамблевых моделей машинного обучения по прогнозированию временного ряда. В качестве примера рассмотрена температура блока усиления мощности."
      ]
    },
    {
      "cell_type": "markdown",
      "metadata": {
        "id": "AcWBXn61UYc0"
      },
      "source": [
        "## Введение\n",
        "\n",
        "Современные радиолокационные станции (РЛС) – это структурно-сложные радиотехнические и информационные системы, характеризующиеся высокой надежностью функционирования и большим числом цифровых компонентов в своем составе. Одним из таких компонентов является блок усиления мощности (БУМ), задача которого усиливать передаваемый или принимаемый сигнал.\n",
        "\n",
        "Функционирование БУМ приводит к их нагреву, что может сказаться на снижении их работоспособности или даже привести к отказу.  Техническое состояние БУМ напрямую зависит от их температуры: при достижении определенного порога блок перестает работать и начинает охлаждаться. После охлаждения до определенной температуры он снова переходит в рабоспособное состояние.\n",
        "\n",
        "Основная задача, решаемая в рамках данной лабораторной работы - спрогнозировать будущее значение температуры блоков усиления мощности на основании истории их функционирования и режима работы блоков. Последний определяет тип сигнала, передаваемый на БУМ, а поэтому определяет интенсивность нагрева."
      ]
    },
    {
      "cell_type": "markdown",
      "metadata": {
        "id": "XEjBB0ekUYc2"
      },
      "source": [
        "Существует 2 основных подхода к прогнозированию временного ряда методами машинного обучения. В обоих подходах обучающая выборка состоит из ретроспективных данных о функционировании блока. Отличие состоит в том, что выбирается в качестве целевой переменной. \n",
        "\n",
        "В первом подходе определяется значение временного ряда (температуры) на следующем отсчете времени (целевая переменная - 1-мерная). Тогда прогнозные значения на каком-то интервале времени будут получаться путем последовательного прогнозирования значения ряда на 1 временной отсчет. При этом ошибка неизбежно накапливается, поскольку каждое прогнозное значение имеет свою неустранимую ошибку.\n",
        "\n",
        "В другом подходе в качестве целевой переменной выбирается сразу интервал значений длиной *n* (целевая переменная *n*-мерная). Такой подход лишен недостатка в виде накопления ошибки, как в первом подходе. Однако, в этом случае сам метод прогнозирования сложнее и требует больших временных затрат и больших вычислительных мощностей.\n",
        "\n",
        "В данной лабораторной работе мы остановимся на первом подходе."
      ]
    },
    {
      "cell_type": "markdown",
      "metadata": {
        "id": "tv-cJxx1UYc3"
      },
      "source": [
        "## Описание файла с данными"
      ]
    },
    {
      "cell_type": "markdown",
      "metadata": {
        "id": "8XukCIT4UYc3"
      },
      "source": [
        "Подключим стандартные пакеты для работы с данными и построения графиков"
      ]
    },
    {
      "cell_type": "code",
      "execution_count": null,
      "metadata": {
        "colab": {
          "base_uri": "https://localhost:8080/"
        },
        "id": "zRiV7vuuUYc4",
        "outputId": "1bfd6fd9-ab5f-4711-ea7d-1f06a28e85bd"
      },
      "outputs": [
        {
          "output_type": "stream",
          "name": "stdout",
          "text": [
            "Drive already mounted at /content/drive; to attempt to forcibly remount, call drive.mount(\"/content/drive\", force_remount=True).\n"
          ]
        }
      ],
      "source": [
        "import numpy as np\n",
        "import pandas as pd\n",
        "from matplotlib import pyplot as plt\n",
        "from google.colab import drive\n",
        "drive.mount('/content/drive')\n",
        "%matplotlib inline"
      ]
    },
    {
      "cell_type": "markdown",
      "metadata": {
        "id": "op92A68iUYc5"
      },
      "source": [
        "Загрузим файл с данными и выведем на экран первые 5 строк. Получим информацию по каждой колонке."
      ]
    },
    {
      "cell_type": "code",
      "execution_count": null,
      "metadata": {
        "scrolled": false,
        "colab": {
          "base_uri": "https://localhost:8080/",
          "height": 206
        },
        "id": "MjK0wX__UYc6",
        "outputId": "b4a3e185-52ed-4245-b443-b05b15206e4f"
      },
      "outputs": [
        {
          "output_type": "execute_result",
          "data": {
            "text/html": [
              "\n",
              "  <div id=\"df-84566cd0-fc9f-445d-a4f6-b06b3d9a9a8d\">\n",
              "    <div class=\"colab-df-container\">\n",
              "      <div>\n",
              "<style scoped>\n",
              "    .dataframe tbody tr th:only-of-type {\n",
              "        vertical-align: middle;\n",
              "    }\n",
              "\n",
              "    .dataframe tbody tr th {\n",
              "        vertical-align: top;\n",
              "    }\n",
              "\n",
              "    .dataframe thead th {\n",
              "        text-align: right;\n",
              "    }\n",
              "</style>\n",
              "<table border=\"1\" class=\"dataframe\">\n",
              "  <thead>\n",
              "    <tr style=\"text-align: right;\">\n",
              "      <th></th>\n",
              "      <th>mode</th>\n",
              "      <th>temp1</th>\n",
              "      <th>temp2</th>\n",
              "      <th>temp3</th>\n",
              "    </tr>\n",
              "  </thead>\n",
              "  <tbody>\n",
              "    <tr>\n",
              "      <th>0</th>\n",
              "      <td>3</td>\n",
              "      <td>28.286114</td>\n",
              "      <td>28.043155</td>\n",
              "      <td>27.282141</td>\n",
              "    </tr>\n",
              "    <tr>\n",
              "      <th>1</th>\n",
              "      <td>4</td>\n",
              "      <td>34.142434</td>\n",
              "      <td>35.346311</td>\n",
              "      <td>34.829661</td>\n",
              "    </tr>\n",
              "    <tr>\n",
              "      <th>2</th>\n",
              "      <td>2</td>\n",
              "      <td>34.813586</td>\n",
              "      <td>36.781106</td>\n",
              "      <td>34.445407</td>\n",
              "    </tr>\n",
              "    <tr>\n",
              "      <th>3</th>\n",
              "      <td>4</td>\n",
              "      <td>39.946499</td>\n",
              "      <td>43.133120</td>\n",
              "      <td>40.372435</td>\n",
              "    </tr>\n",
              "    <tr>\n",
              "      <th>4</th>\n",
              "      <td>4</td>\n",
              "      <td>43.950857</td>\n",
              "      <td>47.014358</td>\n",
              "      <td>44.162152</td>\n",
              "    </tr>\n",
              "  </tbody>\n",
              "</table>\n",
              "</div>\n",
              "      <button class=\"colab-df-convert\" onclick=\"convertToInteractive('df-84566cd0-fc9f-445d-a4f6-b06b3d9a9a8d')\"\n",
              "              title=\"Convert this dataframe to an interactive table.\"\n",
              "              style=\"display:none;\">\n",
              "        \n",
              "  <svg xmlns=\"http://www.w3.org/2000/svg\" height=\"24px\"viewBox=\"0 0 24 24\"\n",
              "       width=\"24px\">\n",
              "    <path d=\"M0 0h24v24H0V0z\" fill=\"none\"/>\n",
              "    <path d=\"M18.56 5.44l.94 2.06.94-2.06 2.06-.94-2.06-.94-.94-2.06-.94 2.06-2.06.94zm-11 1L8.5 8.5l.94-2.06 2.06-.94-2.06-.94L8.5 2.5l-.94 2.06-2.06.94zm10 10l.94 2.06.94-2.06 2.06-.94-2.06-.94-.94-2.06-.94 2.06-2.06.94z\"/><path d=\"M17.41 7.96l-1.37-1.37c-.4-.4-.92-.59-1.43-.59-.52 0-1.04.2-1.43.59L10.3 9.45l-7.72 7.72c-.78.78-.78 2.05 0 2.83L4 21.41c.39.39.9.59 1.41.59.51 0 1.02-.2 1.41-.59l7.78-7.78 2.81-2.81c.8-.78.8-2.07 0-2.86zM5.41 20L4 18.59l7.72-7.72 1.47 1.35L5.41 20z\"/>\n",
              "  </svg>\n",
              "      </button>\n",
              "      \n",
              "  <style>\n",
              "    .colab-df-container {\n",
              "      display:flex;\n",
              "      flex-wrap:wrap;\n",
              "      gap: 12px;\n",
              "    }\n",
              "\n",
              "    .colab-df-convert {\n",
              "      background-color: #E8F0FE;\n",
              "      border: none;\n",
              "      border-radius: 50%;\n",
              "      cursor: pointer;\n",
              "      display: none;\n",
              "      fill: #1967D2;\n",
              "      height: 32px;\n",
              "      padding: 0 0 0 0;\n",
              "      width: 32px;\n",
              "    }\n",
              "\n",
              "    .colab-df-convert:hover {\n",
              "      background-color: #E2EBFA;\n",
              "      box-shadow: 0px 1px 2px rgba(60, 64, 67, 0.3), 0px 1px 3px 1px rgba(60, 64, 67, 0.15);\n",
              "      fill: #174EA6;\n",
              "    }\n",
              "\n",
              "    [theme=dark] .colab-df-convert {\n",
              "      background-color: #3B4455;\n",
              "      fill: #D2E3FC;\n",
              "    }\n",
              "\n",
              "    [theme=dark] .colab-df-convert:hover {\n",
              "      background-color: #434B5C;\n",
              "      box-shadow: 0px 1px 3px 1px rgba(0, 0, 0, 0.15);\n",
              "      filter: drop-shadow(0px 1px 2px rgba(0, 0, 0, 0.3));\n",
              "      fill: #FFFFFF;\n",
              "    }\n",
              "  </style>\n",
              "\n",
              "      <script>\n",
              "        const buttonEl =\n",
              "          document.querySelector('#df-84566cd0-fc9f-445d-a4f6-b06b3d9a9a8d button.colab-df-convert');\n",
              "        buttonEl.style.display =\n",
              "          google.colab.kernel.accessAllowed ? 'block' : 'none';\n",
              "\n",
              "        async function convertToInteractive(key) {\n",
              "          const element = document.querySelector('#df-84566cd0-fc9f-445d-a4f6-b06b3d9a9a8d');\n",
              "          const dataTable =\n",
              "            await google.colab.kernel.invokeFunction('convertToInteractive',\n",
              "                                                     [key], {});\n",
              "          if (!dataTable) return;\n",
              "\n",
              "          const docLinkHtml = 'Like what you see? Visit the ' +\n",
              "            '<a target=\"_blank\" href=https://colab.research.google.com/notebooks/data_table.ipynb>data table notebook</a>'\n",
              "            + ' to learn more about interactive tables.';\n",
              "          element.innerHTML = '';\n",
              "          dataTable['output_type'] = 'display_data';\n",
              "          await google.colab.output.renderOutput(dataTable, element);\n",
              "          const docLink = document.createElement('div');\n",
              "          docLink.innerHTML = docLinkHtml;\n",
              "          element.appendChild(docLink);\n",
              "        }\n",
              "      </script>\n",
              "    </div>\n",
              "  </div>\n",
              "  "
            ],
            "text/plain": [
              "   mode      temp1      temp2      temp3\n",
              "0     3  28.286114  28.043155  27.282141\n",
              "1     4  34.142434  35.346311  34.829661\n",
              "2     2  34.813586  36.781106  34.445407\n",
              "3     4  39.946499  43.133120  40.372435\n",
              "4     4  43.950857  47.014358  44.162152"
            ]
          },
          "metadata": {},
          "execution_count": 2
        }
      ],
      "source": [
        "df = pd.read_csv(\"/content/drive/MyDrive/Colab Notebooks/Lab6_data.csv\")\n",
        "df.head()"
      ]
    },
    {
      "cell_type": "code",
      "execution_count": null,
      "metadata": {
        "colab": {
          "base_uri": "https://localhost:8080/"
        },
        "id": "smGL1jhtUYc6",
        "outputId": "41a2cbc3-3134-4c20-a3ba-eb3a78ca5550"
      },
      "outputs": [
        {
          "output_type": "stream",
          "name": "stdout",
          "text": [
            "<class 'pandas.core.frame.DataFrame'>\n",
            "RangeIndex: 1205950 entries, 0 to 1205949\n",
            "Data columns (total 4 columns):\n",
            " #   Column  Non-Null Count    Dtype  \n",
            "---  ------  --------------    -----  \n",
            " 0   mode    1205950 non-null  int64  \n",
            " 1   temp1   1205950 non-null  float64\n",
            " 2   temp2   1205950 non-null  float64\n",
            " 3   temp3   1205950 non-null  float64\n",
            "dtypes: float64(3), int64(1)\n",
            "memory usage: 36.8 MB\n"
          ]
        }
      ],
      "source": [
        "df.info()"
      ]
    },
    {
      "cell_type": "markdown",
      "metadata": {
        "id": "e21SP-PoUYc7"
      },
      "source": [
        "Первая колонка **mode** обозначает номер режима работы блоков. Этот режим определяет интенсивность нагрева блоков. Анализ каждого из режимов был выполнен в предыдущей лабораторной работе. Следующие 3 колонки в датасете содержат в себе информацию о температуре каждого из 3-х БУМ в каждый момент времени.\n",
        "\n",
        "Для простоты рассмотрим только 1-й блок и будем прогнозировать только его температуру."
      ]
    },
    {
      "cell_type": "code",
      "execution_count": null,
      "metadata": {
        "id": "sLB3RtMeUYc7"
      },
      "outputs": [],
      "source": [
        "df = df[['mode','temp1']].rename(columns={'temp1':'temp'})"
      ]
    },
    {
      "cell_type": "code",
      "execution_count": null,
      "metadata": {
        "colab": {
          "base_uri": "https://localhost:8080/",
          "height": 279
        },
        "id": "1iXak_2PUYc8",
        "outputId": "d16fdff6-b2c5-41db-b485-bc30a44025b8"
      },
      "outputs": [
        {
          "output_type": "display_data",
          "data": {
            "image/png": "[encoded data removed]",
            "text/plain": [
              "<Figure size 432x288 with 1 Axes>"
            ]
          },
          "metadata": {
            "needs_background": "light"
          }
        }
      ],
      "source": [
        "plt.plot(df['temp'])\n",
        "plt.xlim(0,1000)\n",
        "plt.xlabel('Time')\n",
        "plt.ylabel('Temp')\n",
        "plt.show()"
      ]
    },
    {
      "cell_type": "markdown",
      "metadata": {
        "id": "VJwk31tcUYc8"
      },
      "source": [
        "## Подготовка данных"
      ]
    },
    {
      "cell_type": "markdown",
      "metadata": {
        "id": "owsdOOzpUYc9"
      },
      "source": [
        "### Нормирование"
      ]
    },
    {
      "cell_type": "markdown",
      "metadata": {
        "id": "CU3CsUwLUYc9"
      },
      "source": [
        "Температура, записанная в таблице **df** измеряется в градусах Цельсия. Однако для применения различных моделей машинного обучения желательно нормировать данные, чтобы ограничить их максимальные и минимальные значения. Отнормируем значения температуры на отрезок \\[0,1\\]. Сохраненные значения **max_value** и **min_value** позволят после выполнения прогноза вернуться к реальным значениям температуры.  "
      ]
    },
    {
      "cell_type": "code",
      "execution_count": null,
      "metadata": {
        "id": "JEUSqVODUYc9"
      },
      "outputs": [],
      "source": [
        "def normalize(series):\n",
        "    # Напишите здесь свой код\n",
        "    max_value = np.max(series)\n",
        "    min_value = np.min(series)\n",
        "\n",
        "    normalized = (series - min_value)/(max_value - min_value)\n",
        "    return normalized, max_value, min_value"
      ]
    },
    {
      "cell_type": "code",
      "execution_count": null,
      "metadata": {
        "id": "Do3DG_cmUYc-"
      },
      "outputs": [],
      "source": [
        "normalized, max_value, min_value = normalize(df['temp'])\n",
        "df.loc[:,'temp'] = normalized"
      ]
    },
    {
      "cell_type": "markdown",
      "metadata": {
        "id": "LX8DaP0EUYc-"
      },
      "source": [
        "### Создание тестовой выборки"
      ]
    },
    {
      "cell_type": "markdown",
      "metadata": {
        "id": "kqSeiwXRUYc_"
      },
      "source": [
        "В качестве тестовой выборки будем использовать последовательность значений температур определенной длины **seq_length** и режим работы в конце этой последовательности. При этом стоит обратить внимание на то, что режим работы в какой-то временной отсчет $mode_i$ определяет значение температуры в тот же самый отсчет времени $T_i$. Поэтому обучающая выборка должна состоять из значений:\n",
        "\n",
        "$$\n",
        "X = \\{T_{N-seq\\_length+1}, ..., T_{N-1}, T_{N}, mode_{N+1}\\}.\n",
        "$$\n",
        "\n",
        "В то время как целевая переменная является просто последующим значением температуры:\n",
        "\n",
        "$$\n",
        "y = T_{N+1}.\n",
        "$$\n",
        "\n",
        "Воспользуемся функцией, написанной в прошлой лабораторной работе, которая будет создавать обучающую и тестовую выборку объемом **N**, где длина обучающей последовательности равна **seq_length**."
      ]
    },
    {
      "cell_type": "code",
      "execution_count": null,
      "metadata": {
        "id": "Hz-QsAkBUYc_"
      },
      "outputs": [],
      "source": [
        "def get_sequences(df, N, seq_length):\n",
        "    if N + seq_length > len(df) - 1:\n",
        "        N = len(df) - seq_length - 1\n",
        "    X = None\n",
        "    y = None\n",
        "    pos = 1\n",
        "    while pos < N:\n",
        "        seq = np.append(df.loc[pos:pos+seq_length-1, 'temp'].values, df.loc[pos+seq_length, 'mode'].astype('float64'))\n",
        "        X = np.vstack((X, seq)) if X is not None else seq\n",
        "        y_val = df.loc[pos+seq_length, 'temp'].astype('float64')\n",
        "        y = np.append(y, y_val) if y is not None else np.array(y_val)\n",
        "        pos += 1\n",
        "    return X, y"
      ]
    },
    {
      "cell_type": "markdown",
      "metadata": {
        "id": "B9gsjoIPUYdA"
      },
      "source": [
        "Создадим обучающую и тестовую выборки"
      ]
    },
    {
      "cell_type": "code",
      "execution_count": null,
      "metadata": {
        "id": "nbYtfzUqUYdA"
      },
      "outputs": [],
      "source": [
        "size = 10000\n",
        "seq_length = 40\n",
        "\n",
        "X, y = get_sequences(df, size, seq_length)"
      ]
    },
    {
      "cell_type": "markdown",
      "metadata": {
        "id": "wqVrY5W0UYdB"
      },
      "source": [
        "## Ансамблевые модели машинного обучения"
      ]
    },
    {
      "cell_type": "markdown",
      "metadata": {
        "id": "y7vRmDl2UYdC"
      },
      "source": [
        "Мотивация применения ансамблевых методов состоит в том, чтобы объединить прогнозы нескольких базовых моделей, построенных с заданным алгоритмом обучения и улучшить качество прогноза.\n",
        "\n",
        "Обычно выделяют два семейства ансамблевых методов:\n",
        "\n",
        "- в методах усреднения (бэггинга) главный принцип состоит в том, чтобы построить несколько моделей независимо, а затем усреднить их прогнозы. В среднем, комбинированная оценка обычно лучше, чем любая из оценок отдельной модели, потому что дисперсия ее ошибки прогноза уменьшается.\n",
        "\n",
        "- в методах бустинга базовые модели строятся последовательно, и каждая пытается уменьшить ошибку прогноза предыдущей модели. Идея состоит в том, чтобы объединить несколько слабых моделей для создания мощного ансамбля. "
      ]
    },
    {
      "cell_type": "markdown",
      "metadata": {
        "id": "QOVKt8mkUYdC"
      },
      "source": [
        "## Бэггинг"
      ]
    },
    {
      "cell_type": "markdown",
      "metadata": {
        "id": "_sHp7kwIUYdD"
      },
      "source": [
        "В ансамблевых алгоритмах бэггинга создается несколько экземпляров базовой модели на случайных подмножествах исходной обучающей выборки, а затем агрегируются индивидуальные прогнозы этих моделей для формирования окончательного прогноза. Такой подход используется как способ уменьшить дисперсию базовой модели (например, дерева решений) путем введения случайности в процедуру построения моделей и последующего создания из них ансамбля. Во многих случаях методы бэггинга представляют собой очень простой способ улучшения базовой модели, без необходимости ее специальной настройки. Поскольку бэггинг обеспечивает способ уменьшения переобучения, этот подход лучше всего работает с сильными и сложными моделями (например, полностью разработанными деревьями решений), в отличие от методов бустинга, которые обычно лучше всего работают со слабыми моделями (например, с неглубокими деревьями решений).\n",
        "\n",
        "Методы бэггинга бывают разных видов, но в основном отличаются друг от друга тем, как они создают случайные подмножества обучающей выборки:\n",
        "\n",
        "- метод вставки - обучающие выборки создаются как случайные подмножества исходной выборки.\n",
        "\n",
        "- метод бутстрэпа - обучающие выборки создаются как исходная выборка с повторениями, т.е. некоторые, случайные элементы исходной выборки дублируются.\n",
        "\n",
        "- метод случайного подпространства - обучающие выборки создаются как случайные подмножества признаков.\n",
        "\n",
        "- метод случайных исправлений - базовые модели обучаются на подмножествах как исходной обучающей выборки, так и признаков."
      ]
    },
    {
      "cell_type": "markdown",
      "metadata": {
        "id": "Bh8xeAjCUYdD"
      },
      "source": [
        "### Создание обучающей выборки методом бутстрэпа"
      ]
    },
    {
      "cell_type": "markdown",
      "metadata": {
        "id": "MDeVjAasUYdE"
      },
      "source": [
        "Реализуйте метод формирования обучающих выборок бутстрэпом. Функция **get_bootstrap_samples(data_X, data_y, n_samples)** принимает на вход исходную выборку **data_X, data_y** и число выходных обучающих выборок **n_samples**, а возвращает совокупность обучающих выборок размером **(n_samples, len(data_X))**. Внутри функции необходимо случайным образом из исходной выборки **n_samples** раз выбрать элементы (с повторениями)."
      ]
    },
    {
      "cell_type": "code",
      "execution_count": null,
      "metadata": {
        "id": "zMp3hiEVUYdE"
      },
      "outputs": [],
      "source": [
        "def get_bootstrap_samples(data_X, data_y, n_samples):\n",
        "    # Напишите здесь свой код\n",
        "    index = np.random.randint(0, len(data_X), (n_samples, len(data_X)))\n",
        "    samples_X = data_X[index]\n",
        "    samples_y = data_y[index]\n",
        "    return (samples_X, samples_y)"
      ]
    },
    {
      "cell_type": "markdown",
      "metadata": {
        "id": "yc20EYq8UYdF"
      },
      "source": [
        "Реализуйте функцию **regr_mape(y_pred, y_test)**, которая подсчитывает значение метрики **MAPE** (Mean Absolut Percentage Error - средняя абсолютная ошибка) для прогнозных **y_pred** и истинных значений **y_test** температуры. Также реализуйте функцию **train(model, model_name, evaluate, X_train, y_train, X_test, y_test)**, которая будет обучать заданную модель **model**. Переменная **evaluate** обозначает метод, который используется для оценки точности прогнозных значений (например, **regr_mape()**). Функция **train()** должна выдавать на выходе значение точности прогноза на обучающей выборке, точности прогноза на тестовой выборке и массив самих прогнозных значений. "
      ]
    },
    {
      "cell_type": "code",
      "execution_count": null,
      "metadata": {
        "id": "SVCX8TswUYdF"
      },
      "outputs": [],
      "source": [
        "def regr_mape(y_pred, y_test):\n",
        "    # Напишите здесь свой код\n",
        "    mape = np.mean(np.abs((y_test - y_pred)/y_test))*100\n",
        "    return mape\n",
        "\n",
        "def train(model, model_name, evaluate, X_train, y_train, X_test, y_test):\n",
        "    # Напишите здесь свой код\n",
        "    score_test = []\n",
        "    y_pred = []\n",
        "\n",
        "    trained = model.fit(X_train,y_train)\n",
        "\n",
        "    for i in range(len(X_test)):\n",
        "        predicted = trained.predict(X_test[i].reshape(1,-1))\n",
        "        y_pred.append( predicted[0] )\n",
        "        score_test.append( evaluate(y_pred,  y_test[i].reshape(1,-1)) )\n",
        "\n",
        "    y_pred_train = trained.predict(X_train)\n",
        "    score_train = evaluate(y_pred_train, y_train )\n",
        "    \n",
        "    return (score_train, score_test, y_pred)"
      ]
    },
    {
      "cell_type": "markdown",
      "metadata": {
        "id": "QX6Y9gzwUYdG"
      },
      "source": [
        "Создайте 1000 обучающих выборок и обучите на них 1000 моделей **DecisionTreeRegressor** с оптимальными параметрами, найденными в предыдущей лабораторной работе. Затем получите прогнозы температуры для тестовой выборки."
      ]
    },
    {
      "cell_type": "code",
      "execution_count": null,
      "metadata": {
        "id": "cs4pFDU6UYdG"
      },
      "outputs": [],
      "source": [
        "n_samples = 1000\n",
        "train_len = 8000\n",
        "X_train = X[:train_len]\n",
        "y_train = y[:train_len]\n",
        "X_test = X[train_len:]\n",
        "y_test = y[train_len:]"
      ]
    },
    {
      "cell_type": "code",
      "execution_count": null,
      "metadata": {
        "id": "TOdilKT0UYdG"
      },
      "outputs": [],
      "source": [
        "from sklearn.tree import DecisionTreeRegressor\n",
        "\n",
        "results = get_bootstrap_samples(X_train, y_train, n_samples)\n",
        "predictions = []\n",
        "\n",
        "X_bootstrap = np.array(results[0])\n",
        "y_bootstrap = np.array(results[1])\n",
        "\n",
        "dtr = DecisionTreeRegressor(max_depth=8, min_samples_split=8, min_samples_leaf=2, random_state=0)\n",
        "\n",
        "predictions = []\n",
        "\n",
        "# Напишите здесь свой код\n",
        "for i in range(len(X_bootstrap)):\n",
        "  score_train, score_test, y_pred = train(dtr, 'Decision Tree', regr_mape, X_bootstrap[i], y_bootstrap[i], X_test, y_test)\n",
        "  predictions.append(y_pred)\n",
        "\n",
        "predictions = np.asarray(predictions)"
      ]
    },
    {
      "cell_type": "markdown",
      "metadata": {
        "id": "gS5x1uSxUYdH"
      },
      "source": [
        "### Прогнозирование временного ряда методом бутстрэпа"
      ]
    },
    {
      "cell_type": "markdown",
      "metadata": {
        "id": "nOtI5Hv8UYdH"
      },
      "source": [
        "Техника бутстрэпа позволяет не просто выдать прогноз в виде определенного значения, но выдать прогноз в виде набора возможных значений, что позволяет оценить доверительный интервал для полученного прогноза. Для примера построим гистограмму распределения для первого прогнозного значения температуры."
      ]
    },
    {
      "cell_type": "code",
      "execution_count": null,
      "metadata": {
        "colab": {
          "base_uri": "https://localhost:8080/",
          "height": 279
        },
        "id": "uA88plW1UYdH",
        "outputId": "ae628e21-3af5-403b-d7f1-76d7693d4f92"
      },
      "outputs": [
        {
          "output_type": "display_data",
          "data": {
            "image/png": "[encoded data removed]",
            "text/plain": [
              "<Figure size 432x288 with 1 Axes>"
            ]
          },
          "metadata": {
            "needs_background": "light"
          }
        }
      ],
      "source": [
        "plt.figure()\n",
        "plt.hist(predictions[:,0], bins=100)\n",
        "plt.xlabel('Pred temp')\n",
        "plt.ylabel('Frequency')\n",
        "plt.show()"
      ]
    },
    {
      "cell_type": "markdown",
      "metadata": {
        "id": "rtrv10VNUYdH"
      },
      "source": [
        "Напишите функцию **stat_intervals(stat, alpha)** для определения доверительного интервала для набора данных **stat** с заданным доверительным уровнем ошибки **alpha** (т.е. если alpha = 0.1, то вероятность того, что искомая величина попадает в доверительный интервал равна 90 %). Функция должна выдавать пару значений: верхнюю и нижнюю границы."
      ]
    },
    {
      "cell_type": "code",
      "execution_count": null,
      "metadata": {
        "id": "LHPIqZO6UYdI"
      },
      "outputs": [],
      "source": [
        "from scipy.stats import t\n",
        "def stat_intervals(stat, alpha):\n",
        "    # Напишите здесь свой код\n",
        "    boundaries = []\n",
        "\n",
        "    mean = np.mean(stat)\n",
        "    n = len(stat)\n",
        "    std = np.std(stat)\n",
        "    \n",
        "    boundaries.append( t.ppf(0 + alpha/2, n - 1, loc = mean, scale = std) )\n",
        "    boundaries.append( t.ppf(1 - alpha/2, n - 1, loc = mean, scale = std) )\n",
        "    return boundaries"
      ]
    },
    {
      "cell_type": "markdown",
      "metadata": {
        "id": "pF9xkdRSUYdI"
      },
      "source": [
        "Определим доверительный интервал первого спрогнозированного значения для вероятности 95 %."
      ]
    },
    {
      "cell_type": "code",
      "execution_count": null,
      "metadata": {
        "colab": {
          "base_uri": "https://localhost:8080/"
        },
        "id": "o5xnQNowUYdI",
        "outputId": "2f61d2f8-1776-4416-fb9b-b2a9cf9f70fc"
      },
      "outputs": [
        {
          "output_type": "execute_result",
          "data": {
            "text/plain": [
              "[0.5404079083214297, 0.5659316288404659]"
            ]
          },
          "metadata": {},
          "execution_count": 19
        }
      ],
      "source": [
        "interval = stat_intervals(predictions[:,0], 0.05)\n",
        "interval"
      ]
    },
    {
      "cell_type": "markdown",
      "metadata": {
        "id": "eetTTowcUYdJ"
      },
      "source": [
        "Функция **train()** в результате своей работы также выдала результаты прогноза значений температуры на длительный интервал времени. На основании спрогнозированных значений температуры множеством моделей получите для каждого спрогнозированного значения среднее, а также доверительный интервал с уровнем доверия 95 %. Далее постройте график изменения температуры, на котором отразите истинные значения температуры, средние спрогнозированные значения, а также доверительные интервалы."
      ]
    },
    {
      "cell_type": "code",
      "execution_count": null,
      "metadata": {
        "id": "VL2_FnwvUYdJ"
      },
      "outputs": [],
      "source": [
        "alpha = 0.05\n",
        "\n",
        "means = []\n",
        "boundaries = []\n",
        "# Напишите здесь свой код\n",
        "means = [np.mean(predictions[:,i]) for i in range(len(predictions[0]))]\n",
        "boundaries = [stat_intervals(predictions[:,i], alpha) for i in range(len(predictions[0]))]\n",
        "boundaries = np.asarray(boundaries)"
      ]
    },
    {
      "cell_type": "code",
      "source": [
        "print(boundaries[1:10])"
      ],
      "metadata": {
        "colab": {
          "base_uri": "https://localhost:8080/"
        },
        "id": "jehaIHuPkr8t",
        "outputId": "857d9fc7-5bff-4154-d189-3022e77a2f3d"
      },
      "execution_count": null,
      "outputs": [
        {
          "output_type": "stream",
          "name": "stdout",
          "text": [
            "[[0.56186671 0.58620572]\n",
            " [0.57958661 0.60018626]\n",
            " [0.55313667 0.57962347]\n",
            " [0.51321419 0.54337781]\n",
            " [0.50573783 0.53632213]\n",
            " [0.52412445 0.55413693]\n",
            " [0.49013917 0.52666718]\n",
            " [0.45940262 0.50410883]\n",
            " [0.44041887 0.49013264]]\n"
          ]
        }
      ]
    },
    {
      "cell_type": "code",
      "execution_count": null,
      "metadata": {
        "colab": {
          "base_uri": "https://localhost:8080/",
          "height": 621
        },
        "id": "7yzkk3PEUYdJ",
        "outputId": "39f073a4-e49a-4422-81cf-340f36f4ed49"
      },
      "outputs": [
        {
          "output_type": "display_data",
          "data": {
            "image/png": "[encoded data removed]",
            "text/plain": [
              "<Figure size 1440x720 with 1 Axes>"
            ]
          },
          "metadata": {
            "needs_background": "light"
          }
        }
      ],
      "source": [
        "plt.figure(figsize=(20,10))\n",
        "length = 50\n",
        "x1 = np.linspace(start=0, stop=length, num=length, endpoint=False)\n",
        "x2 = np.linspace(start=length, stop=2*length, num=length, endpoint=False)\n",
        "plt.plot(x1, y_train[-length:], c='black')\n",
        "plt.plot(x2, y_test[:length], c='black', label='true')\n",
        "plt.legend()\n",
        "plt.xlabel('timestamp')\n",
        "plt.ylabel('normalized temp')\n",
        "plt.title('DecisionTreeRegressor + bootstrap')\n",
        "\n",
        "# Напишите здесь свой код\n",
        "plt.plot(x2, means[:length], c='red', label='Ansamble predicted')\n",
        "plt.legend()\n",
        "plt.show()"
      ]
    },
    {
      "cell_type": "markdown",
      "metadata": {
        "id": "nsSe06ROUYdK"
      },
      "source": [
        "Определите точность усредненного прогноза и сравните его с точностью прогноза одной модели **DecisionTreeRegressor**."
      ]
    },
    {
      "cell_type": "code",
      "execution_count": null,
      "metadata": {
        "id": "prk-NF4SUYdK",
        "colab": {
          "base_uri": "https://localhost:8080/"
        },
        "outputId": "8c2ae434-1c8b-427c-fbc7-ff34155b2aa0"
      },
      "outputs": [
        {
          "output_type": "stream",
          "name": "stdout",
          "text": [
            "MAPE for single model: 2.02805\n",
            "MAPE for bootstrap model: 1.73372\n"
          ]
        }
      ],
      "source": [
        "# Напишите здесь свой код\n",
        "score_bootstrap_dtr = regr_mape(means, y_test)\n",
        "\n",
        "dtr = DecisionTreeRegressor(max_depth=8, min_samples_split=8, min_samples_leaf=2, random_state=0)\n",
        "results = train(dtr, 'dtr', regr_mape, X_train, y_train, X_test, y_test)\n",
        "score_dtr = results[1][0]\n",
        "\n",
        "print('MAPE for single model: {:.5f}'.format(score_dtr))\n",
        "print('MAPE for bootstrap model: {:.5f}'.format(score_bootstrap_dtr))"
      ]
    },
    {
      "cell_type": "markdown",
      "metadata": {
        "id": "eCfvVExLUYdL"
      },
      "source": [
        "**Выводы:** \n",
        "\n",
        "Метод бустрепа оказался немного точнее в задаче прогнозирования на 0.3% согласно MAPE, чем простое дерево решений с теми же коэффициентами\n",
        "\n",
        "Метод бустрепа требует на обучение сильно больше времени против обычного дерева"
      ]
    },
    {
      "cell_type": "markdown",
      "metadata": {
        "id": "SXGqfvL2UYdL"
      },
      "source": [
        "### Случайный лес"
      ]
    },
    {
      "cell_type": "markdown",
      "metadata": {
        "id": "SRoxLhSCUYdL"
      },
      "source": [
        "Другой реализацией бэггинга (метода устреднения) является модель под названием \"случайный лес\", или **RandomForest**. Он может применяться как для решения задачи классификации - [RandomForestClassifier](https://scikit-learn.org/stable/modules/generated/sklearn.ensemble.RandomForestClassifier.html#sklearn.ensemble.RandomForestClassifier \"RandomForestClassifier\"), так и для решения задачи регрессии - [RandomForestRegressor](https://scikit-learn.org/stable/modules/generated/sklearn.ensemble.RandomForestRegressor.html#sklearn.ensemble.RandomForestRegressor \"RandomForestRegressor\"). Назван эта модель так, потому что она состоит из нескольких моделей **DecisionTree**, у каждой из которых случайным образом выбраны два параметры: наполнение обучающей выборки и максимальное число используемых признаков. По сути это и есть реализация метода бутстрэп и метода случайного подпространства признаков (о которых речь была выше), но на моделях решающего дерева. Итоговый прогноз получается в результате усреднения прогноза каждой из моделей. За счет рандомизации параметров моделей и их большого числа достигается увеличение качества работы \"случайного леса\".\n",
        "\n",
        "Обучите модель **RandomForestRegressor** на тех же данных, что и нашу собственную модель на основе бутсnрэпа. Параметры у модели **RandomForestRegressor** такие же, как и у **DecisionTreeRegressor**, только добавляется **n_estimators** - число простых моделей в итоговой модели, **max_features** - максимальное число признаков, которое будет анализироваться, и **bootstrap** - использовать или нет метод бутстрэпа. Подберите оптимальное значение **n_estimators**, **max_depth**, **min_samples_split**."
      ]
    },
    {
      "cell_type": "code",
      "execution_count": null,
      "metadata": {
        "id": "tJs74I6GUYdM"
      },
      "outputs": [],
      "source": [
        "from sklearn.ensemble import RandomForestRegressor\n",
        "\n",
        "rf = RandomForestRegressor(\n",
        "    n_estimators = 10, \n",
        "    max_depth = 2, \n",
        "    min_samples_split = 2, \n",
        "    random_state = 0)"
      ]
    },
    {
      "cell_type": "code",
      "execution_count": null,
      "metadata": {
        "id": "60Lr71ptUYdN",
        "colab": {
          "base_uri": "https://localhost:8080/"
        },
        "outputId": "6c8bc6f1-aab2-46ed-f572-ee3577212989"
      },
      "outputs": [
        {
          "output_type": "stream",
          "name": "stdout",
          "text": [
            "{'5': 32.4183919830524, '8': 32.41904467470556, '10': 32.41737370892375, '15': 32.42056160900855, '20': 32.420991702146274, '40': 32.42391111186119, '60': 32.428381954406625}\n",
            "10\n"
          ]
        }
      ],
      "source": [
        "# Напишите здесь свой код\n",
        "results = dict()\n",
        "scores = []\n",
        "params = (5, 8, 10, 15, 20, 40, 60)\n",
        "for i in params:\n",
        "  rf = RandomForestRegressor(\n",
        "    n_estimators = i, \n",
        "    max_depth = 8, \n",
        "    min_samples_split = 8, \n",
        "    random_state = 0)\n",
        "  result = train(rf, 'Random forest', regr_mape, \n",
        "  X_train, \n",
        "  y_train, \n",
        "  X_test, y_test)\n",
        "  scores.append(np.mean(result[1]))\n",
        "  results[str(i)] = np.mean(result[1])\n",
        "print(results)\n",
        "print(params[scores.index(min(scores))])"
      ]
    },
    {
      "cell_type": "code",
      "source": [
        "# Напишите здесь свой код\n",
        "results = dict()\n",
        "scores = []\n",
        "params = (6, 8, 10)\n",
        "for i in params:\n",
        "  rf = RandomForestRegressor(\n",
        "    n_estimators = 10, \n",
        "    max_depth = i, \n",
        "    min_samples_split = 10, \n",
        "    random_state = 0)\n",
        "  result = train(rf, 'Random forest', regr_mape, \n",
        "  X_train, \n",
        "  y_train, \n",
        "  X_test, y_test)\n",
        "  scores.append(np.mean(result[1]))\n",
        "  results[str(i)] = np.mean(result[1])\n",
        "print(results)\n",
        "print(params[scores.index(min(scores))])"
      ],
      "metadata": {
        "colab": {
          "base_uri": "https://localhost:8080/"
        },
        "id": "fMmyMwBJZTMb",
        "outputId": "82aacf73-0abb-4a15-c0f0-e453649ce8fa"
      },
      "execution_count": null,
      "outputs": [
        {
          "output_type": "stream",
          "name": "stdout",
          "text": [
            "{'6': 32.34478438406001, '8': 32.4191738731389, '10': 32.44504587636328}\n",
            "6\n"
          ]
        }
      ]
    },
    {
      "cell_type": "code",
      "source": [
        "results = dict()\n",
        "scores = []\n",
        "params = (8, 10, 12)\n",
        "for i in params:\n",
        "  rf = RandomForestRegressor(\n",
        "    n_estimators = 10, \n",
        "    max_depth = 10, \n",
        "    min_samples_split = i, \n",
        "    random_state = 0)\n",
        "  result = train(rf, 'Random forest', regr_mape, \n",
        "  X_train, \n",
        "  y_train, \n",
        "  X_test, y_test)\n",
        "  scores.append(np.mean(result[1]))\n",
        "  results[str(i)] = np.mean(result[1])\n",
        "print(results)\n",
        "print(params[scores.index(min(scores))])"
      ],
      "metadata": {
        "colab": {
          "base_uri": "https://localhost:8080/"
        },
        "id": "Of7DUKEUZf5Q",
        "outputId": "b90d050f-739c-43c8-faf1-d4f1aab13185"
      },
      "execution_count": null,
      "outputs": [
        {
          "output_type": "stream",
          "name": "stdout",
          "text": [
            "{'8': 32.44196731032731, '10': 32.44504587636328, '12': 32.45283066342236}\n",
            "8\n"
          ]
        }
      ]
    },
    {
      "cell_type": "markdown",
      "metadata": {
        "id": "owB4ib1SUYdN"
      },
      "source": [
        "Обучите модель с оптимальными параметрами, найденными выше. Определите финальное качество прогноза на тестовой выборке. Постройте график прогнозных значений температуры."
      ]
    },
    {
      "cell_type": "code",
      "execution_count": null,
      "metadata": {
        "id": "PwIds4SsUYdN",
        "colab": {
          "base_uri": "https://localhost:8080/"
        },
        "outputId": "455637d7-7205-44d9-e8db-18d98cfe1c19"
      },
      "outputs": [
        {
          "output_type": "stream",
          "name": "stdout",
          "text": [
            "MAPE for RandomForest model: 0.97453\n"
          ]
        }
      ],
      "source": [
        "# Напишите здесь свой код\n",
        "rf = RandomForestRegressor(\n",
        "    n_estimators = 10, \n",
        "    max_depth = 6, \n",
        "    min_samples_split = 8, \n",
        "    random_state = 0)\n",
        "\n",
        "result = train(rf, 'rf', regr_mape, X_train, y_train, X_test, y_test)\n",
        "preds = result[2]\n",
        "score_rf = result[1][0]\n",
        "\n",
        "print('MAPE for RandomForest model: {:.5f}'.format(score_rf))"
      ]
    },
    {
      "cell_type": "code",
      "execution_count": null,
      "metadata": {
        "id": "3wNE9svYUYdO",
        "colab": {
          "base_uri": "https://localhost:8080/",
          "height": 621
        },
        "outputId": "4a4b7e59-8069-44d3-8c5c-4cf31b294432"
      },
      "outputs": [
        {
          "output_type": "display_data",
          "data": {
            "image/png": "[encoded data removed]",
            "text/plain": [
              "<Figure size 720x720 with 1 Axes>"
            ]
          },
          "metadata": {
            "needs_background": "light"
          }
        }
      ],
      "source": [
        "plt.figure(figsize=(10,10))\n",
        "length = 50\n",
        "x1 = np.linspace(start=0, stop=length, num=length, endpoint=False)\n",
        "x2 = np.linspace(start=length, stop=2*length, num=length, endpoint=False)\n",
        "plt.plot(x1, y_train[-length:], c='black')\n",
        "plt.plot(x2, y_test[:length], c='black', label='true')\n",
        "plt.legend()\n",
        "plt.xlabel('timestamp')\n",
        "plt.ylabel('normalized temp')\n",
        "plt.title('RandomForestRegressor')\n",
        "\n",
        "# Напишите здесь свой код\n",
        "plt.plot(x2, preds[:length], c='red', label='Ansamble predicted')\n",
        "plt.legend()\n",
        "plt.show()"
      ]
    },
    {
      "cell_type": "markdown",
      "source": [
        "**Вывод**\n",
        "\n",
        "* Метод очень быстро обучается\n",
        "* Визуально предсказанные значения ближе к истинным"
      ],
      "metadata": {
        "id": "dmqwhGVvcB6H"
      }
    },
    {
      "cell_type": "markdown",
      "metadata": {
        "id": "jOj73QBhUYdO"
      },
      "source": [
        "## Метод бустинга"
      ]
    },
    {
      "cell_type": "markdown",
      "metadata": {
        "id": "Lpi4Jp7lUYdO"
      },
      "source": [
        "### AdaBoost"
      ]
    },
    {
      "cell_type": "markdown",
      "metadata": {
        "id": "HZ8XjahVUYdP"
      },
      "source": [
        "Эта модель является одной из самых популярных реализаций методов бустинга и была разработана в 1995 году Фройндом и Шапиро. Основной принцип AdaBoost состоит в том, чтобы обучить последовательность \"слабых\" моделей (то есть моделей, которые лишь немного лучше, чем случайный прогноз, такие как небольшие деревья решений) на многократно изменяемых версиях данных. Прогнозы от всех из них затем объединяются посредством взвешенного большинства голосов (или суммы) для получения окончательного прогноза. Модификации данных на каждой так называемой итерации бустинга состоят в применении весов к каждой обучающей выборке. Первоначально все эти веса установлены равными, поэтому на первом этапе просто обучается \"слабая\" модель на исходных данных. Для каждой последующей итерации веса выборки индивидуально изменяются, и алгоритм обучения повторно применяется к повторно взвешенным данным. На данном этапе те обучающие примеры, которые были неправильно предсказаны усиленной моделью, созданной на предыдущем шаге, имеют увеличенные веса, тогда как веса уменьшаются для тех, которые были предсказаны правильно. По мере продолжения итераций, примеры, которые трудно предсказать, получают все большее влияние. Таким образом, каждая последующая \"слабая\" модель вынуждена концентрироваться на примерах, которые упускают предыдущие модели. "
      ]
    },
    {
      "cell_type": "markdown",
      "metadata": {
        "id": "ojMOr1n3UYdP"
      },
      "source": [
        "Модель AdaBoost позволяет решать как задачи классификации, так и задачи регрессии. Создайте объект [**AdaBoostRegressor**](https://scikit-learn.org/stable/modules/generated/sklearn.ensemble.AdaBoostRegressor.html#sklearn.ensemble.AdaBoostRegressor \"AdaBoostRegressor\"). Параметр **base_estimator** задает \"слабую\" модель, которая будет использоваться для бустинга, **n_estimators** обозначает число \"слабых\" моделей в последовательности. Параметр **learning_rate** определяет вес, на который домножаются примеры из обучающей выборки. Этот параметр очень важен и играет роль регуляризации: чем он меньше, тем медленнее идет обучение, но тем \"лучше\" оно проходит. Наконец параметр **loss** определяет функцию (она называется функция потерь), по которой на каждой итерации бустинга рассчитывается штраф за неверно предсказанное значение и определяются веса, на которые нужно домножить примеры из обучающей выборки на следующей итерации бустинга. Доступные функции потерь - линейная, квадратичная и экспоненциальная.\n",
        "\n",
        "Обучите модель AdaBoost на двух \"слабых\" моделях: решающее дерево (с оптимальными параметрами, найденными выше) и линейная регрессия. Подберите оптимальным образом параметры **learning_rate** и **n_estimators** Определите качество прогноза на тех же самых тестовых данных, что и выше."
      ]
    },
    {
      "cell_type": "code",
      "execution_count": null,
      "metadata": {
        "id": "0AWizyAvUYdP"
      },
      "outputs": [],
      "source": [
        "from sklearn.ensemble import AdaBoostRegressor\n",
        "from sklearn.linear_model import LinearRegression\n",
        "\n",
        "dtr = DecisionTreeRegressor(max_depth=8, min_samples_split=8, min_samples_leaf=2, random_state=0)\n",
        "lr = LinearRegression()"
      ]
    },
    {
      "cell_type": "code",
      "execution_count": null,
      "metadata": {
        "id": "zlYoE94PUYdQ",
        "colab": {
          "base_uri": "https://localhost:8080/"
        },
        "outputId": "3aa8936b-e9b3-4de5-8492-f1e518b0eefd"
      },
      "outputs": [
        {
          "output_type": "stream",
          "name": "stdout",
          "text": [
            "{'8': 32.42915069587189, '10': 32.444662094658646, '20': 32.45796170329009, '60': 32.46593156797072, '80': 32.46748994376026, '120': 32.46150072897474}\n",
            "8\n"
          ]
        }
      ],
      "source": [
        "# Напишите здесь свой код\n",
        "params = (8, 10, 20, 60, 80,120)\n",
        "scores = []\n",
        "results = dict()\n",
        "for i in params:\n",
        "        adaboost_dtr = AdaBoostRegressor(\n",
        "                base_estimator = dtr,\n",
        "                n_estimators = i, \n",
        "                learning_rate = 1.0, \n",
        "                random_state = 0)\n",
        "        result = train(adaboost_dtr, 'adaboost_dtr', regr_mape, X_train, y_train, X_test, y_test)\n",
        "        scores.append(np.mean(result[1]))\n",
        "        results[str(i)] = np.mean(result[1])\n",
        "print(results)\n",
        "print(params[scores.index(min(scores))])"
      ]
    },
    {
      "cell_type": "code",
      "source": [
        "params = (1, 2, 3, 4, 5, 6, 7, 8)\n",
        "scores = []\n",
        "results = dict()\n",
        "for i in params:\n",
        "        adaboost_dtr = AdaBoostRegressor(\n",
        "                base_estimator = dtr,\n",
        "                n_estimators = 120, \n",
        "                learning_rate = i, \n",
        "                random_state = 0)\n",
        "        result = train(adaboost_dtr, 'adaboost_dtr', regr_mape, X_train, y_train, X_test, y_test)\n",
        "        scores.append(np.mean(result[1]))\n",
        "        results[str(i)] = np.mean(result[1])\n",
        "print(results)\n",
        "print(params[scores.index(min(scores))])"
      ],
      "metadata": {
        "colab": {
          "base_uri": "https://localhost:8080/"
        },
        "id": "0Q1Gf5px1B2P",
        "outputId": "fd52d0bd-31f4-4e0c-ba60-16eda100c659"
      },
      "execution_count": null,
      "outputs": [
        {
          "output_type": "stream",
          "name": "stdout",
          "text": [
            "{'1': 32.46150072897474, '2': 32.460786539062326, '3': 33.970148672556284, '4': 32.91876359501307, '5': 31.43876045741241, '6': 29.842741402549194, '7': 35.99949228103338, '8': 45.39193973883778}\n",
            "6\n"
          ]
        }
      ]
    },
    {
      "cell_type": "code",
      "source": [
        "params = (8, 10, 20, 60, 80, 120)\n",
        "scores = []\n",
        "results = dict()\n",
        "for i in params:\n",
        "        adaboost_dtr = AdaBoostRegressor(\n",
        "                base_estimator = lr,\n",
        "                n_estimators = i, \n",
        "                learning_rate = 1.0, \n",
        "                random_state = 0)\n",
        "        result = train(adaboost_dtr, 'adaboost_dtr', regr_mape, X_train, y_train, X_test, y_test)\n",
        "        scores.append(np.mean(result[1]))\n",
        "        results[str(i)] = np.mean(result[1])\n",
        "print(results)\n",
        "print(params[scores.index(min(scores))])"
      ],
      "metadata": {
        "colab": {
          "base_uri": "https://localhost:8080/"
        },
        "id": "e8KPPKgW1KLT",
        "outputId": "f48d2abe-bd87-4c3a-ff50-1be6a6f69073"
      },
      "execution_count": null,
      "outputs": [
        {
          "output_type": "stream",
          "name": "stdout",
          "text": [
            "{'8': 31.89182610188624, '10': 31.613517395757093, '20': 31.609843475960687, '60': 31.609843475960687, '80': 31.609843475960687, '120': 31.609843475960687}\n",
            "20\n"
          ]
        }
      ]
    },
    {
      "cell_type": "code",
      "source": [
        "params = (1, 2, 3, 4, 5, 6, 7, 8)\n",
        "scores = []\n",
        "results = dict()\n",
        "for i in params:\n",
        "        adaboost_dtr = AdaBoostRegressor(\n",
        "                base_estimator = lr,\n",
        "                n_estimators =  120, \n",
        "                learning_rate = i, \n",
        "                random_state = 0)\n",
        "        result = train(adaboost_dtr, 'adaboost_dtr', regr_mape, X_train, y_train, X_test, y_test)\n",
        "        scores.append(np.mean(result[1]))\n",
        "        results[str(i)] = np.mean(result[1])\n",
        "print(results)\n",
        "print(params[scores.index(min(scores))])"
      ],
      "metadata": {
        "colab": {
          "base_uri": "https://localhost:8080/"
        },
        "id": "UuQFQrKs1QmN",
        "outputId": "a31b1b63-a227-45d5-c3e6-f92b63625211"
      },
      "execution_count": null,
      "outputs": [
        {
          "output_type": "stream",
          "name": "stdout",
          "text": [
            "{'1': 31.609843475960687, '2': 31.523172199907844, '3': 32.159770328094986, '4': 32.159770328094986, '5': 30.208434207215458, '6': 32.10379155909191, '7': 29.883470051542847, '8': 29.880322018908625}\n",
            "8\n"
          ]
        }
      ]
    },
    {
      "cell_type": "code",
      "execution_count": null,
      "metadata": {
        "id": "9gSFuKbVUYdQ",
        "colab": {
          "base_uri": "https://localhost:8080/"
        },
        "outputId": "3b70b3db-097e-4e73-b033-954b3bc6029d"
      },
      "outputs": [
        {
          "output_type": "stream",
          "name": "stdout",
          "text": [
            "MAPE for AdaBoost on DecisionTree model: 1.80192\n",
            "MAPE for AdaBoost on LinearRegression model: 5.43888\n"
          ]
        }
      ],
      "source": [
        "# Напишите здесь свой код\n",
        "adaboost_dtr = AdaBoostRegressor(\n",
        "        base_estimator = dtr,\n",
        "        n_estimators = 120, \n",
        "        learning_rate = 1, \n",
        "        random_state = 0)\n",
        "adaboost_lr = AdaBoostRegressor(\n",
        "        base_estimator = lr,\n",
        "        n_estimators = 120, \n",
        "        learning_rate = 1, \n",
        "        random_state = 0)\n",
        "result = train(adaboost_dtr, 'adaboost_dtr', regr_mape, X_train, y_train, X_test, y_test)\n",
        "preds_adaboost_dtr = result[2]\n",
        "score_adaboost_dtr = result[1][0]\n",
        "result = train(adaboost_lr, 'adaboost_lr', regr_mape, X_train, y_train, X_test, y_test)\n",
        "preds_adaboost_lr = result[2]\n",
        "score_adaboost_lr = result[1][0]\n",
        "\n",
        "print('MAPE for AdaBoost on DecisionTree model: {:.5f}'.format(score_adaboost_dtr))\n",
        "print('MAPE for AdaBoost on LinearRegression model: {:.5f}'.format(score_adaboost_lr))"
      ]
    },
    {
      "cell_type": "markdown",
      "metadata": {
        "id": "pLv04k-vUYdR"
      },
      "source": [
        "Постройте сравнительный график прогнозных значений температуры обоих моделей."
      ]
    },
    {
      "cell_type": "code",
      "execution_count": null,
      "metadata": {
        "id": "LOkrw_7-UYdR",
        "colab": {
          "base_uri": "https://localhost:8080/",
          "height": 350
        },
        "outputId": "1c41fb13-2bcc-40ef-ecd5-aa592ea007b9"
      },
      "outputs": [
        {
          "output_type": "display_data",
          "data": {
            "image/png": "[encoded data removed]",
            "text/plain": [
              "<Figure size 360x360 with 1 Axes>"
            ]
          },
          "metadata": {
            "needs_background": "light"
          }
        }
      ],
      "source": [
        "plt.figure(figsize=(5,5))\n",
        "length = 50\n",
        "x1 = np.linspace(start=0, stop=length, num=length, endpoint=False)\n",
        "x2 = np.linspace(start=length, stop=2*length, num=length, endpoint=False)\n",
        "plt.plot(x1, y_train[-length:], c='black')\n",
        "plt.plot(x2, y_test[:length], c='black', label='true')\n",
        "plt.legend()\n",
        "plt.xlabel('timestamp')\n",
        "plt.ylabel('normalized temp')\n",
        "plt.title('AdaBoost')\n",
        "\n",
        "# Напишите здесь свой код\n",
        "plt.plot(x2, preds_adaboost_dtr[:length], c='red', label='adaboost_dtr')\n",
        "plt.plot(x2, preds_adaboost_lr[:length], 'g:', label='adaboost_lr')\n",
        "plt.legend()\n",
        "plt.show()"
      ]
    },
    {
      "cell_type": "markdown",
      "metadata": {
        "id": "Bs9aAlq0UYdS"
      },
      "source": [
        "### Gradient Tree Boosting"
      ]
    },
    {
      "cell_type": "markdown",
      "metadata": {
        "id": "nHyhWquEUYdS"
      },
      "source": [
        "В модели **AdaBoost** есть возможность выбора функции потерь, которая определяет каким образом будут распределены веса между примерами из обучающей выборки на следующей итерации бустинга, - линеная, квадратичная или экспоненциальная. Градиентный бустинг на решающих деревьях (Gradient Tree Boosting или **Gradient Boosted Decision Tree, GBDT**) - это обобщение на случай произвольных дифференцируемых функций потерь. **GBDT** - это эффективная модель процедура, которую можно использовать для решения задач регрессии и классификации в различных областях, включая ранжирование в веб-поиске и экологию.\n",
        "\n",
        "Идея **GBDT** состоит в следующем. Итоговая модель представляет собой линеную комбинацию \"слабых\" моделей - решающих деревьев:\n",
        "\n",
        "$$\n",
        "F_M(x) = \\sum^M_{m=1}h_m(x)\n",
        "$$\n",
        "\n",
        "На каждой итерации бустинга к итоговой модели добавляется новое решающее дерево:\n",
        "\n",
        "$$\n",
        "F_m(x) = F_{m-1}(x) + h_m(x),\n",
        "$$\n",
        "\n",
        "которое выбирается таким образом, чтобы минимизировать ошибку прогноза, т.е. функцию потерь $L(y, F(x))$, уже построенной к этой итерации модели:\n",
        "\n",
        "$$\n",
        "h_m = argmin_{h}L_m = argmin_h\\sum^N_{i=1}L(y_i, F_{m-1}(x_i) + h(x_i))\n",
        "$$\n",
        "\n",
        "Построение этого нового решающего дерева ведется методом градиентного спуска для минимизации функции потерь:\n",
        "\n",
        "$$\n",
        "h_m \\approx argmin_h\\sum^N_{i=1}h(x_i)g_i, \\quad g_i = \\left.\\dfrac{\\partial L(y_i,F(x_i))}{\\partial F(x_i)}\\right|_{F=F_{m-1}}.\n",
        "$$"
      ]
    },
    {
      "cell_type": "markdown",
      "metadata": {
        "id": "VB34v5RKUYdS"
      },
      "source": [
        "Постройте и обучите модель градиентного бустинга из пакета **LightGBM** - [LGBMRegressor](https://lightgbm.readthedocs.io/en/latest/pythonapi/lightgbm.LGBMRegressor.html#lightgbm.LGBMRegressor \"LGbMRegressor\"). Эта реализации работает сильно быстрее по сравнению с реализацией в пакете Sklearn [GradientBoostingRegressor](https://scikit-learn.org/stable/modules/generated/sklearn.ensemble.GradientBoostingRegressor.html#sklearn.ensemble.GradientBoostingRegressor \"GradientBoostingRegressor\"). Параметры этой модели те же самые, что и у **AdaBoost**.\n",
        "\n",
        "Подберите оптимальным образом параметры num_leaves, max_depth, learning_rate и n_estimators. Оцените качетсво работы модели на том же тестовом датасете, что и предыдующие модели."
      ]
    },
    {
      "cell_type": "code",
      "execution_count": null,
      "metadata": {
        "id": "ttiICraGUYdT"
      },
      "outputs": [],
      "source": [
        "from lightgbm import LGBMRegressor\n",
        "\n",
        "# Напишите здесь свой код\n"
      ]
    },
    {
      "cell_type": "code",
      "source": [
        "params = (10, 15, 20, 40, 50)\n",
        "scores = []\n",
        "results = dict()\n",
        "for i in params:\n",
        "  lgbm = LGBMRegressor(num_leaves = i, \n",
        "                       max_depth = -1, \n",
        "                       learning_rate = 0.1, \n",
        "                       n_estimators = 100, \n",
        "                       random_state = 0)\n",
        "  result = train(lgbm, 'lgbm', regr_mape, X_train, y_train, X_test, y_test)\n",
        "  scores.append(np.mean(result[1]))\n",
        "  results[str(i)] = np.mean(result[1])\n",
        "print(results)\n",
        "print(params[scores.index(min(scores))])"
      ],
      "metadata": {
        "colab": {
          "base_uri": "https://localhost:8080/"
        },
        "id": "__60ho0x3-3n",
        "outputId": "76528bd1-a389-4ba3-b905-8726bd957eed"
      },
      "execution_count": null,
      "outputs": [
        {
          "output_type": "stream",
          "name": "stdout",
          "text": [
            "{'10': 32.40166365562149, '15': 32.4392131337369, '20': 32.45302750928509, '40': 32.4933785567207, '50': 32.504178390860524}\n",
            "10\n"
          ]
        }
      ]
    },
    {
      "cell_type": "code",
      "source": [
        "params = (2, 4, 6, 8, 10, 12)\n",
        "scores = []\n",
        "results = dict()\n",
        "for i in params:\n",
        "  lgbm = LGBMRegressor(num_leaves = 10, \n",
        "                       max_depth = i, \n",
        "                       learning_rate = 0.1, \n",
        "                       n_estimators = 100, \n",
        "                       random_state = 0)\n",
        "  result = train(lgbm, 'lgbm', regr_mape, X_train, y_train, X_test, y_test)\n",
        "  scores.append(np.mean(result[1]))\n",
        "  results[str(i)] = np.mean(result[1])\n",
        "print(results)\n",
        "print(params[scores.index(min(scores))])"
      ],
      "metadata": {
        "colab": {
          "base_uri": "https://localhost:8080/"
        },
        "id": "DqB6UeuB4V6p",
        "outputId": "9dc61b43-e8a6-4235-8319-7f368866ba27"
      },
      "execution_count": null,
      "outputs": [
        {
          "output_type": "stream",
          "name": "stdout",
          "text": [
            "{'2': 32.19859559570196, '4': 32.40861291240664, '6': 32.4065813181693, '8': 32.40163872240637, '10': 32.40166365562149, '12': 32.40166365562149}\n",
            "2\n"
          ]
        }
      ]
    },
    {
      "cell_type": "code",
      "source": [
        "params = (0.1, 0.5, 0.7, 1, 2, 5)\n",
        "scores = []\n",
        "results = dict()\n",
        "for i in params:\n",
        "  lgbm = LGBMRegressor(num_leaves = 10, \n",
        "                       max_depth = 2, \n",
        "                       learning_rate = i, \n",
        "                       n_estimators = 100, \n",
        "                       random_state = 0)\n",
        "  result = train(lgbm, 'lgbm', regr_mape, X_train, y_train, X_test, y_test)\n",
        "  scores.append(np.mean(result[1]))\n",
        "  results[str(i)] = np.mean(result[1])\n",
        "print(results)\n",
        "print(params[scores.index(min(scores))])"
      ],
      "metadata": {
        "colab": {
          "base_uri": "https://localhost:8080/"
        },
        "id": "xGb1rflW4bAG",
        "outputId": "1d5971e1-9b20-4d3b-bd24-51e8f3e2eb64"
      },
      "execution_count": null,
      "outputs": [
        {
          "output_type": "stream",
          "name": "stdout",
          "text": [
            "{'0.1': 32.19859559570196, '0.5': 32.4373592513697, '0.7': 32.484191949368885, '1': 32.45953791630829, '2': 24.67835656952404, '5': 1.215572009046389e+41}\n",
            "2\n"
          ]
        }
      ]
    },
    {
      "cell_type": "code",
      "source": [
        "params = (10, 30, 50, 80, 100,150, 200)\n",
        "scores = []\n",
        "results = dict()\n",
        "for i in params:\n",
        "  lgbm = LGBMRegressor(num_leaves = 10, \n",
        "                       max_depth = 2, \n",
        "                       learning_rate = 2, \n",
        "                       n_estimators = i, \n",
        "                       random_state = 0)\n",
        "  result = train(lgbm, 'lgbm', regr_mape, X_train, y_train, X_test, y_test)\n",
        "  scores.append(np.mean(result[1]))\n",
        "  results[str(i)] = np.mean(result[1])\n",
        "print(results)\n",
        "print(params[scores.index(min(scores))])"
      ],
      "metadata": {
        "colab": {
          "base_uri": "https://localhost:8080/"
        },
        "id": "yGaSBOz54q62",
        "outputId": "cc9601cb-0c9f-41a6-968f-5add5180475c"
      },
      "execution_count": null,
      "outputs": [
        {
          "output_type": "stream",
          "name": "stdout",
          "text": [
            "{'10': 24.678356595620773, '30': 24.678356499127908, '50': 24.67835659296499, '80': 24.678356572847484, '100': 24.67835656952404, '150': 24.678356479441927, '200': 24.678356545723492}\n",
            "150\n"
          ]
        }
      ]
    },
    {
      "cell_type": "code",
      "execution_count": null,
      "metadata": {
        "id": "w2gBjk9QUYdU",
        "colab": {
          "base_uri": "https://localhost:8080/"
        },
        "outputId": "af5389e9-4bd3-4705-e362-c831cdd85778"
      },
      "outputs": [
        {
          "output_type": "stream",
          "name": "stdout",
          "text": [
            "MAPE for LightGBM: 2.52210\n"
          ]
        }
      ],
      "source": [
        "# Напишите здесь свой код\n",
        "lgbm = LGBMRegressor(num_leaves = 100, \n",
        "                     max_depth = 2, \n",
        "                     learning_rate = 0.1, \n",
        "                     n_estimators = 150, \n",
        "                     random_state = 0)\n",
        "result = train(lgbm, 'lgbm', regr_mape, X_train, y_train, X_test, y_test)\n",
        "score_lgbm = result[1][0]\n",
        "preds_lgbm = result[2]\n",
        "print('MAPE for LightGBM: {:.5f}'.format(score_lgbm))"
      ]
    },
    {
      "cell_type": "markdown",
      "metadata": {
        "id": "VdJCpsjAUYdU"
      },
      "source": [
        "Постройте график прогнозных значений температуры."
      ]
    },
    {
      "cell_type": "code",
      "execution_count": null,
      "metadata": {
        "id": "kzjHnlMGUYdU",
        "colab": {
          "base_uri": "https://localhost:8080/",
          "height": 621
        },
        "outputId": "84b5b9dc-5c7f-48e7-bdee-75aeb639e8ac"
      },
      "outputs": [
        {
          "output_type": "display_data",
          "data": {
            "image/png": "[encoded data removed]",
            "text/plain": [
              "<Figure size 720x720 with 1 Axes>"
            ]
          },
          "metadata": {
            "needs_background": "light"
          }
        }
      ],
      "source": [
        "plt.figure(figsize=(10,10))\n",
        "length = 50\n",
        "x1 = np.linspace(start=0, stop=length, num=length, endpoint=False)\n",
        "x2 = np.linspace(start=length, stop=2*length, num=length, endpoint=False)\n",
        "plt.plot(x1, y_train[-length:], c='black')\n",
        "plt.plot(x2, y_test[:length], c='black', label='true')\n",
        "plt.legend()\n",
        "plt.xlabel('timestamp')\n",
        "plt.ylabel('normalized temp')\n",
        "plt.title('LightGBM')\n",
        "\n",
        "# Напишите здесь свой код\n",
        "plt.plot(x2, preds_lgbm[:length], c='red', label='LightGBM')\n",
        "plt.legend()\n",
        "plt.show()"
      ]
    },
    {
      "cell_type": "markdown",
      "metadata": {
        "id": "0AqgirKeUYdV"
      },
      "source": [
        "## Сравнение различных методов и моделей"
      ]
    },
    {
      "cell_type": "markdown",
      "metadata": {
        "id": "kpuRqj1EUYdV"
      },
      "source": [
        "Постройте для сравнения на одной гистограмме качество проанализированных моделей на тестовой выборке: обычное решающее дерево, решающее дерево с бутстрэпом, случайный лес, AdaBoost на линейной регрессии, AdaBoost на решающем дереве, градиентный бустинг на решающих деревьях LightGBM. Сделайте выводы."
      ]
    },
    {
      "cell_type": "code",
      "execution_count": null,
      "metadata": {
        "id": "aQoC9xWZUYdV",
        "colab": {
          "base_uri": "https://localhost:8080/",
          "height": 324
        },
        "outputId": "00f3eb52-d718-4fcd-da0f-45ca1c803015"
      },
      "outputs": [
        {
          "output_type": "display_data",
          "data": {
            "image/png": "[encoded data removed]",
            "text/plain": [
              "<Figure size 720x360 with 1 Axes>"
            ]
          },
          "metadata": {
            "needs_background": "light"
          }
        }
      ],
      "source": [
        "plt.figure(figsize=(10,5))\n",
        "xx = ['DT', 'DT with Bootstrap', 'Random Forest', 'AdaBoost on LR', 'AdaBoost on DT', 'LightGBM']\n",
        "yy = [score_dtr, score_bootstrap_dtr, score_rf, score_adaboost_lr, score_adaboost_dtr, score_lgbm]\n",
        "rects = plt.bar(xx, yy)\n",
        "plt.ylim(0, 6)\n",
        "plt.ylabel('MAPE')\n",
        "for i, rect in enumerate(rects):\n",
        "    yloc = rect.get_height()\n",
        "    xloc = rect.get_x() + rect.get_width() / 4\n",
        "    plt.annotate(round(yy[i], 4), xy=(xloc, yloc), xytext=(xloc, 10),\n",
        "                            textcoords=\"offset points\",\n",
        "                            va='center',\n",
        "                            color='black', clip_on=True)"
      ]
    },
    {
      "cell_type": "markdown",
      "metadata": {
        "id": "rYm9AA7oUYdV"
      },
      "source": [
        "**Выводы:**\n",
        "\n",
        "Лучшей точностью прогноза обладает метод случайного дерева (0.97%)\n",
        "\n",
        "Худшей точностью прогноза обладает AdaBoost на линейной регрессии (5.4%)"
      ]
    },
    {
      "cell_type": "code",
      "execution_count": null,
      "metadata": {
        "id": "AjINg6mQUYdW"
      },
      "outputs": [],
      "source": [
        ""
      ]
    }
  ],
  "metadata": {
    "kernelspec": {
      "display_name": "Python 3",
      "language": "python",
      "name": "python3"
    },
    "language_info": {
      "codemirror_mode": {
        "name": "ipython",
        "version": 3
      },
      "file_extension": ".py",
      "mimetype": "text/x-python",
      "name": "python",
      "nbconvert_exporter": "python",
      "pygments_lexer": "ipython3",
      "version": "3.7.4"
    },
    "colab": {
      "name": "Lab6_task.ipynb",
      "provenance": [],
      "collapsed_sections": []
    }
  },
  "nbformat": 4,
  "nbformat_minor": 0
}