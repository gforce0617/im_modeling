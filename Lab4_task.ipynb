{
  "nbformat": 4,
  "nbformat_minor": 0,
  "metadata": {
    "kernelspec": {
      "display_name": "Python 3",
      "language": "python",
      "name": "python3"
    },
    "language_info": {
      "codemirror_mode": {
        "name": "ipython",
        "version": 3
      },
      "file_extension": ".py",
      "mimetype": "text/x-python",
      "name": "python",
      "nbconvert_exporter": "python",
      "pygments_lexer": "ipython3",
      "version": "3.7.4"
    },
    "colab": {
      "name": "Lab4_task.ipynb",
      "provenance": [],
      "collapsed_sections": []
    }
  },
  "cells": [
    {
      "cell_type": "markdown",
      "metadata": {
        "id": "Ju5knrD55MkN"
      },
      "source": [
        "# Лабораторная работа № 4. Решение задачи классификации на примере прогноза состояния системы на основе данных о состоянии ее компонентов."
      ]
    },
    {
      "cell_type": "markdown",
      "metadata": {
        "id": "n6e3O-ov5MkR"
      },
      "source": [
        "В работе проводится ознакомление с различными методами машинного обучения с учителем, решающих задачу классификации. СОздаются различные линейные и нелинейные модели и оценивается точность из прогноза."
      ]
    },
    {
      "cell_type": "markdown",
      "metadata": {
        "id": "JCZNn14i5MkS"
      },
      "source": [
        "## Введение"
      ]
    },
    {
      "cell_type": "markdown",
      "metadata": {
        "id": "Kr59-CHd5MkS"
      },
      "source": [
        "Современные радиолокационные станции (РЛС) – это структурно-сложные радиотехнические и информационные системы, характеризующиеся высокой надежностью функционирования и большим числом цифровых компонентов в своем составе. Одним из таких компонентов является блок усиления мощности (БУМ), задача которого усиливать передаваемый или принимаемый сигнал.\n",
        "\n",
        "Функционирование БУМ приводит к их нагреву, что может сказаться на снижении их работоспособности или даже привести к отказу. Под системой в этой работе мы будем понимать несколько БУМ, объединенных в единое целое. Тогда техническое состояние всей системы будет определяться техническим состоянием ее компонент, т.е. состоянием БУМ в данной работе. Техническое же состояние БУМ напрямую зависит от их температуры: при достижении определенного порога блок перестает работать и начинает охлаждаться. После охлаждения до определенной температуры он снова переходит в рабоспособное состояние.\n",
        "\n",
        "Основная задача - спрогнозировать увеличение температуры блоков усиления мощности на основании истории их функционирования и режима работы блоков, который задает интенсивность нагрева, и возможный выход из строя всей системы блоков. В лабораторной работе № 3 проводится статистический анализ данных тепловой нагрузки модельных БУМ, определяются пороговые значения температур, при которых происходит отключение блоков с целью их охлаждения. На основании пороговых температур вычислено состояние блоков в интервале \\[0, 1\\] и установлен простой критерий определения состояния системы - снижение среднего состояния всех блоков ниже определенного порогового значения. \n",
        "\n",
        "В данной лабораторной работе будут применены различные методы машинного обучения с учителем для установления зависимости состояния системы от состояний блоков и прогноза состояния системы."
      ]
    },
    {
      "cell_type": "markdown",
      "metadata": {
        "id": "M4snsUDk5MkT"
      },
      "source": [
        "## Описание исходных данных"
      ]
    },
    {
      "cell_type": "markdown",
      "metadata": {
        "id": "FSLhxjL75MkT"
      },
      "source": [
        "Подключим стандартные пакеты для работы с данными и построения графиков"
      ]
    },
    {
      "cell_type": "code",
      "metadata": {
        "colab": {
          "base_uri": "https://localhost:8080/"
        },
        "id": "j9Hs1Mlv5MkU",
        "outputId": "eac0e62b-80a9-4e13-8e1d-23f788078160"
      },
      "source": [
        "import numpy as np\n",
        "import pandas as pd\n",
        "from matplotlib import pyplot as plt\n",
        "from google.colab import drive\n",
        "drive.mount('/content/drive')\n",
        "%matplotlib inline"
      ],
      "execution_count": null,
      "outputs": [
        {
          "output_type": "stream",
          "name": "stdout",
          "text": [
            "Drive already mounted at /content/drive; to attempt to forcibly remount, call drive.mount(\"/content/drive\", force_remount=True).\n"
          ]
        }
      ]
    },
    {
      "cell_type": "markdown",
      "metadata": {
        "id": "Qq5Oe2Zb5MkV"
      },
      "source": [
        "Загрузим файл с данными и выведем на экран первые 5 строк. Получим информацию по каждой колонке."
      ]
    },
    {
      "cell_type": "code",
      "metadata": {
        "colab": {
          "base_uri": "https://localhost:8080/",
          "height": 206
        },
        "id": "IZCsDhf25MkW",
        "outputId": "2d7c6f38-e6f7-4972-a250-d07837dd478a"
      },
      "source": [
        "df = pd.read_csv(\"/content/drive/MyDrive/Colab Notebooks/Lab4_data.csv\")\n",
        "df.head(5)"
      ],
      "execution_count": null,
      "outputs": [
        {
          "output_type": "execute_result",
          "data": {
            "text/html": [
              "<div>\n",
              "<style scoped>\n",
              "    .dataframe tbody tr th:only-of-type {\n",
              "        vertical-align: middle;\n",
              "    }\n",
              "\n",
              "    .dataframe tbody tr th {\n",
              "        vertical-align: top;\n",
              "    }\n",
              "\n",
              "    .dataframe thead th {\n",
              "        text-align: right;\n",
              "    }\n",
              "</style>\n",
              "<table border=\"1\" class=\"dataframe\">\n",
              "  <thead>\n",
              "    <tr style=\"text-align: right;\">\n",
              "      <th></th>\n",
              "      <th>state1</th>\n",
              "      <th>state2</th>\n",
              "      <th>state3</th>\n",
              "      <th>state4</th>\n",
              "      <th>state5</th>\n",
              "      <th>state6</th>\n",
              "      <th>state7</th>\n",
              "      <th>state8</th>\n",
              "      <th>state9</th>\n",
              "      <th>system_state</th>\n",
              "    </tr>\n",
              "  </thead>\n",
              "  <tbody>\n",
              "    <tr>\n",
              "      <th>0</th>\n",
              "      <td>0.990954</td>\n",
              "      <td>0.996330</td>\n",
              "      <td>1.000000</td>\n",
              "      <td>0.979060</td>\n",
              "      <td>1.000000</td>\n",
              "      <td>0.929844</td>\n",
              "      <td>0.947907</td>\n",
              "      <td>0.952991</td>\n",
              "      <td>0.962632</td>\n",
              "      <td>1.0</td>\n",
              "    </tr>\n",
              "    <tr>\n",
              "      <th>1</th>\n",
              "      <td>0.838641</td>\n",
              "      <td>0.806637</td>\n",
              "      <td>0.820733</td>\n",
              "      <td>0.813443</td>\n",
              "      <td>0.797077</td>\n",
              "      <td>0.736372</td>\n",
              "      <td>0.720410</td>\n",
              "      <td>0.780524</td>\n",
              "      <td>0.794755</td>\n",
              "      <td>1.0</td>\n",
              "    </tr>\n",
              "    <tr>\n",
              "      <th>2</th>\n",
              "      <td>0.821185</td>\n",
              "      <td>0.769370</td>\n",
              "      <td>0.830724</td>\n",
              "      <td>0.830488</td>\n",
              "      <td>0.813958</td>\n",
              "      <td>0.753848</td>\n",
              "      <td>0.715018</td>\n",
              "      <td>0.781899</td>\n",
              "      <td>0.796795</td>\n",
              "      <td>1.0</td>\n",
              "    </tr>\n",
              "    <tr>\n",
              "      <th>3</th>\n",
              "      <td>0.687686</td>\n",
              "      <td>0.604382</td>\n",
              "      <td>0.676615</td>\n",
              "      <td>0.708904</td>\n",
              "      <td>0.624583</td>\n",
              "      <td>0.638659</td>\n",
              "      <td>0.576266</td>\n",
              "      <td>0.615852</td>\n",
              "      <td>0.651636</td>\n",
              "      <td>1.0</td>\n",
              "    </tr>\n",
              "    <tr>\n",
              "      <th>4</th>\n",
              "      <td>0.583539</td>\n",
              "      <td>0.503571</td>\n",
              "      <td>0.578079</td>\n",
              "      <td>0.586587</td>\n",
              "      <td>0.534546</td>\n",
              "      <td>0.551319</td>\n",
              "      <td>0.487111</td>\n",
              "      <td>0.529548</td>\n",
              "      <td>0.518788</td>\n",
              "      <td>1.0</td>\n",
              "    </tr>\n",
              "  </tbody>\n",
              "</table>\n",
              "</div>"
            ],
            "text/plain": [
              "     state1    state2    state3  ...    state8    state9  system_state\n",
              "0  0.990954  0.996330  1.000000  ...  0.952991  0.962632           1.0\n",
              "1  0.838641  0.806637  0.820733  ...  0.780524  0.794755           1.0\n",
              "2  0.821185  0.769370  0.830724  ...  0.781899  0.796795           1.0\n",
              "3  0.687686  0.604382  0.676615  ...  0.615852  0.651636           1.0\n",
              "4  0.583539  0.503571  0.578079  ...  0.529548  0.518788           1.0\n",
              "\n",
              "[5 rows x 10 columns]"
            ]
          },
          "metadata": {},
          "execution_count": 3
        }
      ]
    },
    {
      "cell_type": "code",
      "metadata": {
        "colab": {
          "base_uri": "https://localhost:8080/"
        },
        "id": "gQryZxdl5MkX",
        "outputId": "483db3e8-f2fc-41cd-a35c-a735ee27ccd7"
      },
      "source": [
        "df.info()"
      ],
      "execution_count": null,
      "outputs": [
        {
          "output_type": "stream",
          "name": "stdout",
          "text": [
            "<class 'pandas.core.frame.DataFrame'>\n",
            "RangeIndex: 1205950 entries, 0 to 1205949\n",
            "Data columns (total 10 columns):\n",
            " #   Column        Non-Null Count    Dtype  \n",
            "---  ------        --------------    -----  \n",
            " 0   state1        1205950 non-null  float64\n",
            " 1   state2        1205950 non-null  float64\n",
            " 2   state3        1205950 non-null  float64\n",
            " 3   state4        1205950 non-null  float64\n",
            " 4   state5        1205950 non-null  float64\n",
            " 5   state6        1205950 non-null  float64\n",
            " 6   state7        1205950 non-null  float64\n",
            " 7   state8        1205950 non-null  float64\n",
            " 8   state9        1205950 non-null  float64\n",
            " 9   system_state  1205950 non-null  float64\n",
            "dtypes: float64(10)\n",
            "memory usage: 92.0 MB\n"
          ]
        }
      ]
    },
    {
      "cell_type": "markdown",
      "metadata": {
        "id": "i6-cNiPD5MkX"
      },
      "source": [
        "Колонки **state1 - state9** содержат состояние блока 1 - 9 в виде вещественного числа в интервале \\[0, 1\\]. При этом значению 1 соответствует работоспособное состояние с минимальной температурой, в состоянию 0 - выключенное состояние, когда блок находится в режиме обхлаждения. Колонка **system_state** обозначает состояние системы: 1 - работоспособна, 0 - нерабоспособна. Все колонки имеют тип **float64**."
      ]
    },
    {
      "cell_type": "markdown",
      "metadata": {
        "id": "N84PS0j85MkY"
      },
      "source": [
        "## Подготовка данных"
      ]
    },
    {
      "cell_type": "markdown",
      "metadata": {
        "id": "k9RfnhI15MkY"
      },
      "source": [
        "Для использования моделей машинного обучения с учителем необходимо специальным образом подготовить данные: сформировать обучающую выборку, на которой модель будет \"учиться\", т.е. подстраивать свои внутренние параметры, тестовую выборку, на которой будет определяться точность модели в процессе ее обучения, а также валидационную выборку, на которой проверяется итогое качество работы модели. \n",
        "\n",
        "Вместо выделения валидационной выборки можно использовать механизм кросс-валидации.В основе метода лежит разделение исходного множества данных на **k** примерно равных блоков, например 5. Затем на **k-1**, т.е. на 4-х блоках, производится обучение модели, а 5-й блок используется для тестирования. Процедура повторяется **k** раз, при этом на каждом проходе для проверки выбирается новый блок, а обучение производится на оставшихся.\n",
        "![Cross-validation](https://wiki.loginom.ru/images/cross-validation.svg)"
      ]
    },
    {
      "cell_type": "markdown",
      "metadata": {
        "id": "iUuKg75y5MkY"
      },
      "source": [
        "Кросс-валидация имеет два основных преимущества перед применением одного множества для обучения и одного для тестирования модели:\n",
        "\n",
        "- Распределение классов оказывается более равномерным, что улучшает качество обучения.\n",
        "- Если при каждом проходе оценить выходную ошибку модели и усреднить ее по всем проходам, то полученная оценка будет более достоверной.\n",
        "\n",
        "В дальнейшем в этой лабораторной работе будем использовать разбиение на 5 блоков с помощью метода **[KFold](https://scikit-learn.org/stable/modules/generated/sklearn.model_selection.KFold.html?highlight=k%20fold#sklearn.model_selection.KFold 'KFold')**."
      ]
    },
    {
      "cell_type": "code",
      "metadata": {
        "colab": {
          "base_uri": "https://localhost:8080/"
        },
        "id": "UfT7mqEi5MkZ",
        "outputId": "4da2779e-a316-476e-890b-338789a47efa"
      },
      "source": [
        "from sklearn.model_selection import KFold\n",
        "\n",
        "kf = KFold(n_splits=5, shuffle=True)\n",
        "X = df.loc[:, 'state1':'state9']\n",
        "y = df['system_state'].astype(int)\n",
        "\n",
        "for i, (train_index, test_index) in enumerate(kf.split(X), start=1):\n",
        "    print('Fold {}'.format(i))\n",
        "    print('Train index: ', train_index)\n",
        "    print('Test index: ', test_index)"
      ],
      "execution_count": null,
      "outputs": [
        {
          "output_type": "stream",
          "name": "stdout",
          "text": [
            "Fold 1\n",
            "Train index:  [      1       2       3 ... 1205947 1205948 1205949]\n",
            "Test index:  [      0       5      10 ... 1205918 1205921 1205943]\n",
            "Fold 2\n",
            "Train index:  [      0       2       4 ... 1205947 1205948 1205949]\n",
            "Test index:  [      1       3       7 ... 1205933 1205944 1205946]\n",
            "Fold 3\n",
            "Train index:  [      0       1       2 ... 1205946 1205947 1205948]\n",
            "Test index:  [      4      15      34 ... 1205936 1205937 1205949]\n",
            "Fold 4\n",
            "Train index:  [      0       1       2 ... 1205947 1205948 1205949]\n",
            "Test index:  [      9      11      12 ... 1205939 1205942 1205945]\n",
            "Fold 5\n",
            "Train index:  [      0       1       3 ... 1205945 1205946 1205949]\n",
            "Test index:  [      2       6      16 ... 1205941 1205947 1205948]\n"
          ]
        }
      ]
    },
    {
      "cell_type": "markdown",
      "metadata": {
        "id": "0cX5XqjT5MkZ"
      },
      "source": [
        "## Линейные модели машинного обучения"
      ]
    },
    {
      "cell_type": "markdown",
      "metadata": {
        "id": "VvTu7pPl5Mka"
      },
      "source": [
        "Задача определения состояния системы по известным состояниям блоков является задачей бинарной классификации. Среди линейных моделей будем использовать линейную регрессию, линейную регрессию с L1 и L2-регуляризацией, а также логистическую регрессию. Подробное описание работы этих моделей можно прочитать на сайте [Scikit Learn](https://scikit-learn.org/stable/modules/linear_model.html 'Scikit Learn')."
      ]
    },
    {
      "cell_type": "markdown",
      "metadata": {
        "id": "Z5wNxFbO5Mka"
      },
      "source": [
        "Сделаем процесс обучения различных моделей универсальным. Для этого напишем функцию **regr_accuracy(y_pred, y_test)**, которая будет считать точность спрогнизорованных значений целевой переменной для модели регрессии, функцию **class_accuracy(y_pred, y_test)**, которая будет считать точность спрогнизорованных значений целевой переменной для модели классификации, и функцию **train(model, model_name, evaluate, kfold, X, y)**, которая обучает заданную модель **model** с использованием механизма кросс-валидации **kfold**.\n",
        "\n",
        "Точность - относительная доля правильно спрогнозированных значений."
      ]
    },
    {
      "cell_type": "code",
      "metadata": {
        "id": "F1810qIj5Mka"
      },
      "source": [
        "def regr_accuracy(y_pred, y_test):\n",
        "    # y_pred - прогнозные значения\n",
        "    # y_test - истинные значения\n",
        "    \n",
        "    # напишите здесь ваш код\n",
        "    values = np.zeros(len(y_pred))\n",
        "    values[y_pred > 0.65] = 1\n",
        "    return len(values[values == y_test]) / len(y_pred)\n",
        "\n",
        "def class_accuracy(y_pred, y_test):\n",
        "    # y_pred - прогнозные значения\n",
        "    # y_test - истинные значения\n",
        "    \n",
        "    # напишите здесь ваш код\n",
        "    \n",
        "    return len(y_pred[y_pred == y_test]) / len(y_pred)\n",
        "\n",
        "def train(model, model_name, evaluate, kfold, X, y):\n",
        "    # model - модель для прогноза, обладающая методами fit(), predict()\n",
        "    # model_name - название модели, строковый тип\n",
        "    # evaluate - функция для расчета точности, например функция regr_accuracy() или class_accuracy()\n",
        "    # kfold - объект KFold\n",
        "    # X - признаки\n",
        "    # y - целевая переменная\n",
        "    print('Train model: '+model_name)\n",
        "    scores = []\n",
        "    for train_index, test_index in kfold.split(X):\n",
        "        trained = model.fit(X.loc[train_index], y.loc[train_index])\n",
        "        predicated_value = trained.predict(X.loc[test_index])\n",
        "\n",
        "        scores.append( evaluate(predicated_value, y.loc[test_index]) )\n",
        "        # напишите здесь ваш код\n",
        "        \n",
        "    mean_score = np.mean(scores)\n",
        "    print('Mean score = {:.5f}'.format(mean_score))\n",
        "    return mean_score"
      ],
      "execution_count": null,
      "outputs": []
    },
    {
      "cell_type": "markdown",
      "metadata": {
        "id": "cIq8kqPO5Mkb"
      },
      "source": [
        "### Линейная регрессия"
      ]
    },
    {
      "cell_type": "markdown",
      "metadata": {
        "id": "ltbsfY6t5Mkb"
      },
      "source": [
        "В линейных моделях целевая переменная $\\hat{y}$ определяется как линейная комбинация известных переменных (признаков):\n",
        "\n",
        "$$\\hat{y}(w, x) = w_0 + w_1 x_1 + ... + w_p x_p$$\n",
        "\n",
        "В модели линейной регрессии коэффициенты $w = (w_1, ..., w_p)$ подбираются таким образом, чтобы минимизировать сумму квадратов отклонений рассчитанных значений целевой переменной от истинных значений:\n",
        "\n",
        "$$\\min_{w} || X w - y||_2^2$$\n",
        "\n",
        "Важно отметить, что линейные модели чувствительны к абсолютным значениям признаков, поэтому следует перед применением линейных моделей провести нормирование исходных данных (обычно на интервал \\[0,1\\]). Также применение линейных моделей основано на предположении о линейной независимости признаков, поэтому следует стараться не использовать в качестве признаков коррелированные признаки. В противном случае модель будет чувствительна к шумам, т.е. случайным выбросам в значениях признаков."
      ]
    },
    {
      "cell_type": "markdown",
      "metadata": {
        "id": "FKpgB8-j5Mkc"
      },
      "source": [
        "Создадим и обучим модель **[LinearRegression](https://scikit-learn.org/stable/modules/generated/sklearn.linear_model.LinearRegression.html#sklearn.linear_model.LinearRegression 'LinearRegression')**. Запишем точность модели в словарь **scores**."
      ]
    },
    {
      "cell_type": "code",
      "metadata": {
        "colab": {
          "base_uri": "https://localhost:8080/"
        },
        "id": "Eet0corW5Mkc",
        "outputId": "f4a4b3a5-ba1b-458e-9cd6-1d819e04b808"
      },
      "source": [
        "from sklearn import linear_model\n",
        "\n",
        "lin_reg = linear_model.LinearRegression()\n",
        "\n",
        "scores = dict()\n",
        "\n",
        "score = train(lin_reg, 'linear regression', regr_accuracy, kf, X, y)\n",
        "scores['linear regression'] = score"
      ],
      "execution_count": null,
      "outputs": [
        {
          "output_type": "stream",
          "name": "stdout",
          "text": [
            "Train model: linear regression\n",
            "Mean score = 0.80403\n"
          ]
        }
      ]
    },
    {
      "cell_type": "markdown",
      "metadata": {
        "id": "ne5A9y8U5Mkc"
      },
      "source": [
        "### Линейная регрессия c L1 и L2 регуляризацией"
      ]
    },
    {
      "cell_type": "markdown",
      "metadata": {
        "id": "NST7v81h5Mkd"
      },
      "source": [
        "Если размер обучающей выборки невелик, а число признаков, наоборот, достаточно велико, то коэффициенты модели могут быть подобраны таким образом, чтобы модель максимально точно учитывала все точки из обучающей выборки, при этом вне обучающей выборки модель будет давать большую ошибку. Это явление носит название переобучения. Одним из способов препятствовать переобучению является механизмы регуляризации. Он ограничивает значения коэффицентов $w = (w_1, ..., w_p)$, используемых в модели.\n",
        "\n",
        "L1-регуляризация вносит дополнительный \"штраф\", пропорциональный модулю значения коэффициента:\n",
        "$$\\min_{w} ||X w - y||_2 ^ 2 + \\alpha ||w||_1$$\n",
        "\n",
        "L2-регуляризация вносит дополнительный \"штраф\", пропорциональный квадрату модуля значения коэффициента:\n",
        "$$\\min_{w} || X w - y||_2^2 + \\alpha ||w||_2^2$$\n",
        "\n",
        "Параметр $\\alpha$ задает \"силу\" регуляризации. L1-регуляризация приведет к тому, что все несущественные признаки будут иметь вес, равный 0. L2-регуляризация приведет к тому, что несущественные признаки будут иметь околонулевые веса. Продемонстрируем это на примере. Создадим и обучим модели **[Lasso](https://scikit-learn.org/stable/modules/generated/sklearn.linear_model.Lasso.html#sklearn.linear_model.Lasso 'Lasso')** (L1-регуляризация) и **[Ridge](https://scikit-learn.org/stable/modules/generated/sklearn.linear_model.Ridge.html#sklearn.linear_model.Ridge 'Ridge')** (L2-регуляризация).\n",
        "\n",
        "Подберите оптимальное значения параметра регуляризации **$\\alpha$** для модели **Lasso**."
      ]
    },
    {
      "cell_type": "code",
      "metadata": {
        "colab": {
          "base_uri": "https://localhost:8080/"
        },
        "id": "2dFsGDbt5Mkd",
        "outputId": "000d6c23-5196-4fbc-dc43-0bc831863835"
      },
      "source": [
        "alphas = dict()\n",
        "for alpha in [1e-4, 1e-3, 0.01, 0.1, 1]:\n",
        "    print('Alpha = {}'.format(alpha))\n",
        "    lasso = linear_model.Lasso(alpha=alpha)\n",
        "    # напишите здесь ваш код\n",
        "    alphas[train(lasso, 'linear regression lasso', regr_accuracy, kf, X, y)] = alpha\n",
        "    # напишите здесь ваш код\n",
        "    \n",
        "    print('Coefficients: ', lasso.coef_)"
      ],
      "execution_count": null,
      "outputs": [
        {
          "output_type": "stream",
          "name": "stdout",
          "text": [
            "Alpha = 0.0001\n",
            "Train model: linear regression lasso\n",
            "Mean score = 0.80386\n",
            "Coefficients:  [0.16558961 0.1700061  0.1647466  0.16115043 0.16833599 0.16875388\n",
            " 0.16430735 0.1704569  0.17097779]\n",
            "Alpha = 0.001\n",
            "Train model: linear regression lasso\n",
            "Mean score = 0.80244\n",
            "Coefficients:  [0.16378071 0.16811536 0.16451656 0.15830636 0.16686437 0.16568704\n",
            " 0.16263845 0.16764357 0.16960846]\n",
            "Alpha = 0.01\n",
            "Train model: linear regression lasso\n",
            "Mean score = 0.78411\n",
            "Coefficients:  [0.14228257 0.14664164 0.14105176 0.13609213 0.14660174 0.14573324\n",
            " 0.14339613 0.14399955 0.14852034]\n",
            "Alpha = 0.1\n",
            "Train model: linear regression lasso\n",
            "Mean score = 0.65296\n",
            "Coefficients:  [0. 0. 0. 0. 0. 0. 0. 0. 0.]\n",
            "Alpha = 1\n",
            "Train model: linear regression lasso\n",
            "Mean score = 0.65296\n",
            "Coefficients:  [0. 0. 0. 0. 0. 0. 0. 0. 0.]\n"
          ]
        }
      ]
    },
    {
      "cell_type": "markdown",
      "metadata": {
        "id": "JGu6CphG5Mkd"
      },
      "source": [
        "Обучим модель с оптимальным значением параметра $\\alpha$. Сохраним точность прогноза в словаре **scores**."
      ]
    },
    {
      "cell_type": "code",
      "metadata": {
        "colab": {
          "base_uri": "https://localhost:8080/"
        },
        "id": "-Lkr6D1h5Mkd",
        "outputId": "8483f8b9-8ecf-4172-adf6-41237abedb08"
      },
      "source": [
        "lasso = linear_model.Lasso(alpha = 1e-4)\n",
        "score = train(lasso, 'lasso', regr_accuracy, kf, X, y)\n",
        "scores['lasso'] = score"
      ],
      "execution_count": null,
      "outputs": [
        {
          "output_type": "stream",
          "name": "stdout",
          "text": [
            "Train model: lasso\n",
            "Mean score = 0.80391\n"
          ]
        }
      ]
    },
    {
      "cell_type": "markdown",
      "metadata": {
        "id": "5bYzjVFR5Mkd"
      },
      "source": [
        "Подберите оптимальное значения параметра регуляризации **$\\alpha$** для модели **Ridge**."
      ]
    },
    {
      "cell_type": "code",
      "metadata": {
        "colab": {
          "base_uri": "https://localhost:8080/"
        },
        "id": "N7gnjTig5Mke",
        "outputId": "a957000e-657d-4ef1-c2dd-4d0e499f7e0d"
      },
      "source": [
        "# напишите здесь ваш код\n",
        "alphas = dict()\n",
        "for alpha in [1e-4, 1e-3, 0.01, 0.1, 1, 10, 100, 1000]:\n",
        "    print('Alpha = {}'.format(alpha))\n",
        "    ridge = linear_model.Ridge(alpha=alpha)\n",
        "    # напишите здесь ваш код\n",
        "    alphas[train(ridge, 'linear regression lasso', regr_accuracy, kf, X, y)] = alpha\n",
        "    print('Coefficients: ', ridge.coef_)"
      ],
      "execution_count": null,
      "outputs": [
        {
          "output_type": "stream",
          "name": "stdout",
          "text": [
            "Alpha = 0.0001\n",
            "Train model: linear regression lasso\n",
            "Mean score = 0.80401\n",
            "Coefficients:  [0.16468085 0.16961099 0.16557064 0.160977   0.16854561 0.16987405\n",
            " 0.16559612 0.16989361 0.17110569]\n",
            "Alpha = 0.001\n",
            "Train model: linear regression lasso\n",
            "Mean score = 0.80403\n",
            "Coefficients:  [0.16676511 0.16985293 0.16629562 0.16102535 0.16799472 0.16983822\n",
            " 0.1660119  0.16993592 0.16943328]\n",
            "Alpha = 0.01\n",
            "Train model: linear regression lasso\n",
            "Mean score = 0.80404\n",
            "Coefficients:  [0.16656337 0.1701921  0.16607924 0.1605915  0.16810224 0.16984156\n",
            " 0.16597735 0.16849692 0.17103716]\n",
            "Alpha = 0.1\n",
            "Train model: linear regression lasso\n",
            "Mean score = 0.80404\n",
            "Coefficients:  [0.16533435 0.17024619 0.16600866 0.16204423 0.16880848 0.16811188\n",
            " 0.16589911 0.1699123  0.17096102]\n",
            "Alpha = 1\n",
            "Train model: linear regression lasso\n",
            "Mean score = 0.80402\n",
            "Coefficients:  [0.16621793 0.16878059 0.16737902 0.16003688 0.16972624 0.16896976\n",
            " 0.16529935 0.16931465 0.17027037]\n",
            "Alpha = 10\n",
            "Train model: linear regression lasso\n",
            "Mean score = 0.80403\n",
            "Coefficients:  [0.16580197 0.16976641 0.16528488 0.16285926 0.16910983 0.16855711\n",
            " 0.16520239 0.1685667  0.17147336]\n",
            "Alpha = 100\n",
            "Train model: linear regression lasso\n",
            "Mean score = 0.80403\n",
            "Coefficients:  [0.16614602 0.16932749 0.16662009 0.16084697 0.16829845 0.16764374\n",
            " 0.16498085 0.17047826 0.17154441]\n",
            "Alpha = 1000\n",
            "Train model: linear regression lasso\n",
            "Mean score = 0.80378\n",
            "Coefficients:  [0.16608611 0.16887558 0.16519434 0.1602876  0.16816474 0.16802937\n",
            " 0.16478537 0.1698112  0.17242976]\n"
          ]
        }
      ]
    },
    {
      "cell_type": "markdown",
      "metadata": {
        "id": "y44qhF445Mke"
      },
      "source": [
        "Обучим модель с оптимальным значением параметра $\\alpha$. Сохраним точность прогноза в словаре **scores**."
      ]
    },
    {
      "cell_type": "code",
      "metadata": {
        "colab": {
          "base_uri": "https://localhost:8080/"
        },
        "id": "Xl6CW3Ow5Mke",
        "outputId": "dad9a348-f060-45e9-b7dd-60f071208e8b"
      },
      "source": [
        "ridge = linear_model.Ridge(alpha = 0.01)\n",
        "score = train(ridge, 'ridge', regr_accuracy, kf, X, y)\n",
        "scores['ridge'] = score"
      ],
      "execution_count": null,
      "outputs": [
        {
          "output_type": "stream",
          "name": "stdout",
          "text": [
            "Train model: ridge\n",
            "Mean score = 0.80403\n"
          ]
        }
      ]
    },
    {
      "cell_type": "markdown",
      "metadata": {
        "id": "eohO8xdD5Mke"
      },
      "source": [
        "Как видим, **Lasso** просто занулила все коэффициенты при $\\alpha>0.01$."
      ]
    },
    {
      "cell_type": "markdown",
      "metadata": {
        "id": "At2jZPwo5Mke"
      },
      "source": [
        "### Логистическая регрессия"
      ]
    },
    {
      "cell_type": "markdown",
      "metadata": {
        "id": "Uz3MuDJg5Mke"
      },
      "source": [
        "Если на выходе линейной регрессии получается просто вещественное число, то в логистической регрессии это число преобразуется с помощью логистической функции в отрезок \\[0,1\\], а потому может трактоваться как вероятность получения на выходе дискретного значения 1. \n",
        "\n",
        "$$f(y)=\\dfrac{1}{1+e^{-y}}$$\n",
        "\n",
        "Таким образом, модель логистической регрессии может успешно использоваться как бинарный классификатор. Логистическая регрессия минимизирует следующую величину (L1 и L2 регуляризация уже включены и контролируются параметрами $C$ - \"сила\" регуляризации (малые значения - \"сильная\" регуляризация), $\\rho$ - относительный вклад L1-регуляризации):\n",
        "\n",
        "$$\\min_{w, c} \\frac{1 - \\rho}{2}w^T w + \\rho \\|w\\|_1 + C \\sum_{i=1}^n \\log(\\exp(- y_i (X_i^T w + c)) + 1)$$\n",
        "\n",
        "Создадим модель **[LogisticRegression](https://scikit-learn.org/stable/modules/generated/sklearn.linear_model.LogisticRegression.html#sklearn.linear_model.LogisticRegression 'Logistic Regression')** и обучим ее.\n",
        "\n",
        "Подберите оптимальное значение параметра регуляризации **С** и тип регуляризации **penalty**. "
      ]
    },
    {
      "cell_type": "code",
      "metadata": {
        "colab": {
          "base_uri": "https://localhost:8080/"
        },
        "id": "KUyoAooI5Mkf",
        "outputId": "133c55b0-26b9-4a7d-c71b-afc41e93437c"
      },
      "source": [
        "# напишите здесь ваш код\n",
        "C = 'none'\n",
        "penalty = 'none'\n",
        "print('Penalty = {}'.format(penalty))\n",
        "print('C = {}'.format(C))\n",
        "logistic = linear_model.LogisticRegression(penalty = penalty, solver='lbfgs')\n",
        "train(logistic, 'logistic regression', class_accuracy, kf, X, y)\n",
        "penalty = 'l2'\n",
        "for C in (1e-4, 1e-3, 1e-2, 1e-1, 1, 10):\n",
        "    print('Penalty = {}'.format(penalty))\n",
        "    print('C = {}'.format(C))\n",
        "    logistic = linear_model.LogisticRegression(penalty = penalty, C= C, solver='lbfgs')\n",
        "    train(logistic, 'logistic regression', class_accuracy, kf, X, y)"
      ],
      "execution_count": null,
      "outputs": [
        {
          "output_type": "stream",
          "name": "stdout",
          "text": [
            "Penalty = none\n",
            "C = none\n",
            "Train model: logistic regression\n",
            "Mean score = 0.83742\n",
            "Penalty = l2\n",
            "C = 0.0001\n",
            "Train model: logistic regression\n",
            "Mean score = 0.83619\n",
            "Penalty = l2\n",
            "C = 0.001\n",
            "Train model: logistic regression\n",
            "Mean score = 0.83746\n",
            "Penalty = l2\n",
            "C = 0.01\n",
            "Train model: logistic regression\n",
            "Mean score = 0.83743\n",
            "Penalty = l2\n",
            "C = 0.1\n",
            "Train model: logistic regression\n",
            "Mean score = 0.83741\n",
            "Penalty = l2\n",
            "C = 1\n",
            "Train model: logistic regression\n",
            "Mean score = 0.83740\n",
            "Penalty = l2\n",
            "C = 10\n",
            "Train model: logistic regression\n",
            "Mean score = 0.83740\n"
          ]
        }
      ]
    },
    {
      "cell_type": "markdown",
      "metadata": {
        "id": "8VDfrKbA5Mkf"
      },
      "source": [
        "Обучим модель с оптимальным значением параметра **С**. Сохраним точность прогноза в словаре **scores**."
      ]
    },
    {
      "cell_type": "code",
      "metadata": {
        "colab": {
          "base_uri": "https://localhost:8080/"
        },
        "id": "1Kf9bb8J5Mkf",
        "outputId": "e5b1dd9c-bc52-45db-cfd8-d56c3889e6ff"
      },
      "source": [
        "logistic_regr = linear_model.LogisticRegression(penalty = 'l2', C=1e-3, solver='lbfgs')\n",
        "score = train(logistic_regr, 'logistic regression', class_accuracy, kf, X, y)\n",
        "scores['logistic regression'] = score"
      ],
      "execution_count": null,
      "outputs": [
        {
          "output_type": "stream",
          "name": "stdout",
          "text": [
            "Train model: logistic regression\n",
            "Mean score = 0.83744\n"
          ]
        }
      ]
    },
    {
      "cell_type": "markdown",
      "metadata": {
        "id": "4QX22_Q25Mkf"
      },
      "source": [
        "## Метод опорных векторов"
      ]
    },
    {
      "cell_type": "markdown",
      "metadata": {
        "id": "1MIbRsGf5Mkf"
      },
      "source": [
        "Этот метод применим для решения как задач классификации, так и регрессии, и кластеризации. Основными достоинствами метода являются:\n",
        "\n",
        "- эффективность при большой размерности пространства признаков\n",
        "- в процессе обучения запоминается только подвыборка обучающей выборки - опорные вектора, т.е. требует меньший объем памяти\n",
        "- можно применять разные ядра (kernels) для формирования модели\n",
        "\n",
        "Недостатком метода опорных векторов является то, что в случае, когда размерность пространства признаков много больше объема обучающей выборки, на результат работы модели сильно влияет выбор ядра. Также этот метод не позволяет быстро и просто получить вероятность прогноза.\n",
        "\n",
        "С математической точки зрения, метод опорных векторов проводит гипер-плоскость, которая разделяет один класс от другого. При этом граница проводится так, что быть расположенной максимально далеко от каждой из точек.\n",
        "![SVC](https://scikit-learn.org/stable/_images/sphx_glr_plot_separating_hyperplane_0011.png)\n",
        "\n",
        "Функция ядра определяет, какие признаки будут использоваться в качестве переменных в гиперпространстве, в котором проводится гипер-плоскость. Например, для линейного ядра $\\langle x, x'\\rangle$ берутся исходные признаки, для полиномиального ядра - полиномы от исходных признаков $(\\gamma \\langle x, x'\\rangle + r)^d$, для radial-basis-function (rbf) - экспоненциальная функция $\\exp(-\\gamma \\|x-x'\\|^2)$.\n",
        "\n",
        "Построим модель Support Vector Classifier - [**SVC**](https://scikit-learn.org/stable/modules/generated/sklearn.svm.SVC.html#sklearn.svm.SVC 'SVC') для различных ядер. Заранее уменьшим размер выборки, что позволит проводить обучения в разумное время (метод опорных векторов довольно долго обучается).\n",
        "\n",
        "Определите оптимальное значение параметра регуляризации **С** и типа ядра **kernel**."
      ]
    },
    {
      "cell_type": "code",
      "metadata": {
        "colab": {
          "base_uri": "https://localhost:8080/"
        },
        "id": "Dw_GbEAs5Mkg",
        "outputId": "b019ae74-c2e9-471c-f0ea-d5f63e8b9113"
      },
      "source": [
        "from sklearn.svm import SVC\n",
        "X_svc = X.iloc[:10000, :]\n",
        "y_svc = y[:10000]\n",
        "mean_sc = dict()\n",
        "# напишите здесь ваш код\n",
        "for kernel in ('linear', 'poly', 'rbf'):\n",
        "  for C in (1e-4, 1e-3, 0.01, 0.1, 1, 10, 100):\n",
        "    print(f'Kernel: {kernel}')\n",
        "    print(f'Regularization: {C}')\n",
        "    \n",
        "    mean_sc[kernel + '_' + str(C)] = train(SVC(C=C, kernel=kernel, gamma='auto'), 'Kernel', class_accuracy, kf, X_svc, y_svc)"
      ],
      "execution_count": null,
      "outputs": [
        {
          "output_type": "stream",
          "name": "stdout",
          "text": [
            "Kernel: linear\n",
            "Regularization: 0.0001\n",
            "Train model: Kernel\n",
            "Mean score = 0.64970\n",
            "Kernel: linear\n",
            "Regularization: 0.001\n",
            "Train model: Kernel\n",
            "Mean score = 0.80930\n",
            "Kernel: linear\n",
            "Regularization: 0.01\n",
            "Train model: Kernel\n",
            "Mean score = 0.82830\n",
            "Kernel: linear\n",
            "Regularization: 0.1\n",
            "Train model: Kernel\n",
            "Mean score = 0.83130\n",
            "Kernel: linear\n",
            "Regularization: 1\n",
            "Train model: Kernel\n",
            "Mean score = 0.83170\n",
            "Kernel: linear\n",
            "Regularization: 10\n",
            "Train model: Kernel\n",
            "Mean score = 0.83080\n",
            "Kernel: linear\n",
            "Regularization: 100\n",
            "Train model: Kernel\n",
            "Mean score = 0.83140\n",
            "Kernel: poly\n",
            "Regularization: 0.0001\n",
            "Train model: Kernel\n",
            "Mean score = 0.64970\n",
            "Kernel: poly\n",
            "Regularization: 0.001\n",
            "Train model: Kernel\n",
            "Mean score = 0.64970\n",
            "Kernel: poly\n",
            "Regularization: 0.01\n",
            "Train model: Kernel\n",
            "Mean score = 0.71190\n",
            "Kernel: poly\n",
            "Regularization: 0.1\n",
            "Train model: Kernel\n",
            "Mean score = 0.80540\n",
            "Kernel: poly\n",
            "Regularization: 1\n",
            "Train model: Kernel\n",
            "Mean score = 0.82590\n",
            "Kernel: poly\n",
            "Regularization: 10\n",
            "Train model: Kernel\n",
            "Mean score = 0.83840\n",
            "Kernel: poly\n",
            "Regularization: 100\n",
            "Train model: Kernel\n",
            "Mean score = 0.84670\n",
            "Kernel: rbf\n",
            "Regularization: 0.0001\n",
            "Train model: Kernel\n",
            "Mean score = 0.64970\n",
            "Kernel: rbf\n",
            "Regularization: 0.001\n",
            "Train model: Kernel\n",
            "Mean score = 0.64970\n",
            "Kernel: rbf\n",
            "Regularization: 0.01\n",
            "Train model: Kernel\n",
            "Mean score = 0.82550\n",
            "Kernel: rbf\n",
            "Regularization: 0.1\n",
            "Train model: Kernel\n",
            "Mean score = 0.84050\n",
            "Kernel: rbf\n",
            "Regularization: 1\n",
            "Train model: Kernel\n",
            "Mean score = 0.84250\n",
            "Kernel: rbf\n",
            "Regularization: 10\n",
            "Train model: Kernel\n",
            "Mean score = 0.84740\n",
            "Kernel: rbf\n",
            "Regularization: 100\n",
            "Train model: Kernel\n",
            "Mean score = 0.85000\n"
          ]
        }
      ]
    },
    {
      "cell_type": "code",
      "metadata": {
        "colab": {
          "base_uri": "https://localhost:8080/"
        },
        "id": "pUve-CsObYA5",
        "outputId": "3cd904b9-dd2b-4e31-94d1-bd5e6fe2eb70"
      },
      "source": [
        "print(max(mean_sc, key=mean_sc.get))"
      ],
      "execution_count": null,
      "outputs": [
        {
          "output_type": "stream",
          "name": "stdout",
          "text": [
            "rbf_100\n"
          ]
        }
      ]
    },
    {
      "cell_type": "markdown",
      "metadata": {
        "id": "iRjZDOJe5Mkg"
      },
      "source": [
        "Обучим модель с оптимальным значением параметра **С** и типом ядра **kernel**. Сохраним точность прогноза в словаре **scores**."
      ]
    },
    {
      "cell_type": "code",
      "metadata": {
        "colab": {
          "base_uri": "https://localhost:8080/"
        },
        "id": "0IKQ6WZe5Mkg",
        "outputId": "2feef00b-b846-474a-89fe-a2d1716408ed"
      },
      "source": [
        "svc = SVC(C=100, kernel='rbf', gamma='auto')\n",
        "score = train(svc, 'svc', class_accuracy, kf, X_svc, y_svc)\n",
        "scores['svc'] = score"
      ],
      "execution_count": null,
      "outputs": [
        {
          "output_type": "stream",
          "name": "stdout",
          "text": [
            "Train model: svc\n",
            "Mean score = 0.85160\n"
          ]
        }
      ]
    },
    {
      "cell_type": "markdown",
      "metadata": {
        "id": "3p-ACBK15Mkg"
      },
      "source": [
        "## Дерево решений"
      ]
    },
    {
      "cell_type": "markdown",
      "metadata": {
        "id": "Ob0Fs38D5Mkg"
      },
      "source": [
        "В модели дерева решений (Decision Tree) в процессе обучения строится алгоритм, по которому выполняется прогноз модели. При этом алгоритм представляет из себя дерево, каждый лист которого - это проверка на то, что какой-либо признак из обучающей выборки принимает определенное значение. Пример дерева решений приведен на рисунке ниже.\n",
        "![Decision Tree](https://scikit-learn.org/stable/_images/sphx_glr_plot_iris_dtc_0021.png)\n",
        "\n",
        "Преимуществами такого метода являются:\n",
        "- простота визуализации и хорошая интерпретируемость алгоритма прогноза\n",
        "- не требуется нормализация данных\n",
        "- скорость прогноза пропорциональна логарифму объема выборки, т.е. этот метод быстрый\n",
        "- может обрабатывать как числовые, так и категориальные данные\n",
        "\n",
        "Недостатками метода являются:\n",
        "- деревья легко переобучаются\n",
        "- небольшие изменения в обучающей выборке могут привести к перестойке всего дерева, т.е. метод нестабилен\n",
        "- предсказания деревьев являются кусочно-постоянными, поэтому не годятся для экстраполирования\n",
        "- требуется сбалансировать обучающую выборку по классам, чтобы не допустить \"перекоса\" дерева в сторону какого-либо класса\n",
        "\n",
        "Конкретную математическую реализалицаю алгоритма построения дерева решений можно изучить, например, [здесь.](https://scikit-learn.org/stable/modules/tree.html)\n",
        "\n",
        "Создадим модель [**DecisionTreeClassifier**](https://scikit-learn.org/stable/modules/generated/sklearn.tree.DecisionTreeClassifier.html#sklearn.tree.DecisionTreeClassifier 'DecisionTreeClassifier') и обучим ее. Для того, чтобы предотвратить переобучение дерева, обычно ограничивается максимальная глубина дерева - параметр **max_depth**, а также минимальное число элементов из обучающей выборки, приходящееся на определнный лист, чтобы можно было с него сделать новое ветвление - параметр **min_samples_split**.\n",
        "\n",
        "Подберите оптимальное значение параметров **max_depth** и **min_samples_split**."
      ]
    },
    {
      "cell_type": "code",
      "metadata": {
        "colab": {
          "base_uri": "https://localhost:8080/"
        },
        "id": "-Qfo9FPB5Mkg",
        "outputId": "3d9bb2ca-399d-4b4f-888c-998d6fed0d13"
      },
      "source": [
        "from sklearn.tree import DecisionTreeClassifier\n",
        "\n",
        "# напишите здесь ваш код\n",
        "for split in [100000, 10000, 1000, 100, 10]:\n",
        "  dtc = DecisionTreeClassifier(max_depth=10, min_samples_split=split, min_samples_leaf=1, random_state=0)\n",
        "  print(f'Min split: {split}')\n",
        "  train(dtc, 'decision tree', class_accuracy, kf, X, y)"
      ],
      "execution_count": null,
      "outputs": [
        {
          "output_type": "stream",
          "name": "stdout",
          "text": [
            "Min split: 100000\n",
            "Train model: decision tree\n",
            "Mean score = 0.79731\n",
            "Min split: 10000\n",
            "Train model: decision tree\n",
            "Mean score = 0.84289\n",
            "Min split: 1000\n",
            "Train model: decision tree\n",
            "Mean score = 0.85463\n",
            "Min split: 100\n",
            "Train model: decision tree\n",
            "Mean score = 0.85462\n",
            "Min split: 10\n",
            "Train model: decision tree\n",
            "Mean score = 0.85432\n"
          ]
        }
      ]
    },
    {
      "cell_type": "code",
      "metadata": {
        "colab": {
          "base_uri": "https://localhost:8080/"
        },
        "id": "zUWXUNFZ5Mkh",
        "outputId": "89b78e3a-6bb6-4ea2-ad58-753df9fc2003"
      },
      "source": [
        "# напишите здесь ваш код\n",
        "for depth in [5, 8, 10, 12, 18, 25]:\n",
        "  dtc = DecisionTreeClassifier(max_depth=depth, min_samples_split=1000, min_samples_leaf=1, random_state=0)\n",
        "  print(f'Depth: {depth}')\n",
        "  train(dtc, 'decision tree', class_accuracy, kf, X, y)"
      ],
      "execution_count": null,
      "outputs": [
        {
          "output_type": "stream",
          "name": "stdout",
          "text": [
            "Depth: 5\n",
            "Train model: decision tree\n",
            "Mean score = 0.83214\n",
            "Depth: 8\n",
            "Train model: decision tree\n",
            "Mean score = 0.84917\n",
            "Depth: 10\n",
            "Train model: decision tree\n",
            "Mean score = 0.85456\n",
            "Depth: 12\n",
            "Train model: decision tree\n",
            "Mean score = 0.85500\n",
            "Depth: 18\n",
            "Train model: decision tree\n",
            "Mean score = 0.85494\n",
            "Depth: 25\n",
            "Train model: decision tree\n",
            "Mean score = 0.85500\n"
          ]
        }
      ]
    },
    {
      "cell_type": "markdown",
      "metadata": {
        "id": "8PnIER2q5Mkh"
      },
      "source": [
        "Создадим модель с оптимальными значениями параметров **max_depth** и **min_samples_split**. Добавим ее в словарь **scores**."
      ]
    },
    {
      "cell_type": "code",
      "metadata": {
        "colab": {
          "base_uri": "https://localhost:8080/"
        },
        "id": "OTyRbpDK5Mkh",
        "outputId": "6f4b4690-69bf-463f-8201-a9b762d6b7b8"
      },
      "source": [
        "dtc = DecisionTreeClassifier(max_depth= 12, min_samples_split=1000, min_samples_leaf=1, random_state=0)\n",
        "score = train(dtc, 'decision tree', class_accuracy, kf, X, y)\n",
        "scores['decision tree'] = score"
      ],
      "execution_count": null,
      "outputs": [
        {
          "output_type": "stream",
          "name": "stdout",
          "text": [
            "Train model: decision tree\n",
            "Mean score = 0.85518\n"
          ]
        }
      ]
    },
    {
      "cell_type": "markdown",
      "metadata": {
        "id": "_0TgOFTO5Mkh"
      },
      "source": [
        "## Сравнение различных моделей"
      ]
    },
    {
      "cell_type": "markdown",
      "metadata": {
        "id": "d83AFHEA5Mkh"
      },
      "source": [
        "Отобразим на графике точность работы каждой построенной модели. Для этого будем использовать значения из словаря **scores**."
      ]
    },
    {
      "cell_type": "code",
      "metadata": {
        "colab": {
          "base_uri": "https://localhost:8080/",
          "height": 324
        },
        "id": "UkVFNIgd5Mkh",
        "outputId": "2c5bfd3a-4a25-47f7-e042-3d8f38d9f976"
      },
      "source": [
        "plt.figure(figsize=(10,5))\n",
        "xx = list(scores.keys())\n",
        "yy = list(scores.values())\n",
        "rects = plt.bar(xx, yy)\n",
        "plt.ylim(0.7, 0.9)\n",
        "plt.ylabel('Accuracy')\n",
        "for i, rect in enumerate(rects):\n",
        "    yloc = rect.get_height()\n",
        "    xloc = rect.get_x() + rect.get_width() / 4\n",
        "    plt.annotate(round(yy[i], 4), xy=(xloc, yloc), xytext=(xloc, 10),\n",
        "                            textcoords=\"offset points\",\n",
        "                            va='center',\n",
        "                            color='black', clip_on=True)"
      ],
      "execution_count": null,
      "outputs": [
        {
          "output_type": "display_data",
          "data": {
            "image/png": "[encoded data removed]",
            "text/plain": [
              "<Figure size 720x360 with 1 Axes>"
            ]
          },
          "metadata": {
            "needs_background": "light"
          }
        }
      ]
    },
    {
      "cell_type": "markdown",
      "metadata": {
        "id": "rTEEqxt75Mkh"
      },
      "source": [
        "# Выводы\n",
        "* Регрессия в задачах классифкации не самый лучший выбор, что продемонстрировано при выполнении работы.\n",
        "* Предпочтительны при решении задачи классификации - логистическая регрессия, метод опорных векторов, дерево решений.\n",
        "* Лучше всего себя показало дерево решений"
      ]
    },
    {
      "cell_type": "code",
      "metadata": {
        "id": "h6ZXFPK75Mki"
      },
      "source": [
        ""
      ],
      "execution_count": null,
      "outputs": []
    }
  ]
}